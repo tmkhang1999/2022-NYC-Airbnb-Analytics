{
  "cells": [
    {
      "cell_type": "code",
      "source": [
        "from google.colab import drive\n",
        "drive.mount('/content/drive')"
      ],
      "metadata": {
        "id": "f4H8PDmYrRW3",
        "outputId": "76144af4-ef00-4448-cd7e-2651982a1862",
        "colab": {
          "base_uri": "https://localhost:8080/"
        }
      },
      "execution_count": 3,
      "outputs": [
        {
          "output_type": "stream",
          "name": "stdout",
          "text": [
            "Mounted at /content/drive\n"
          ]
        }
      ]
    },
    {
      "cell_type": "code",
      "source": [
        "cd /content/drive/MyDrive/data"
      ],
      "metadata": {
        "id": "I-6gFY6XrUuW",
        "outputId": "21eab56c-e971-46a5-a733-910bc6e49e9d",
        "colab": {
          "base_uri": "https://localhost:8080/"
        }
      },
      "execution_count": 4,
      "outputs": [
        {
          "output_type": "stream",
          "name": "stdout",
          "text": [
            "/content/drive/MyDrive/data\n"
          ]
        }
      ]
    },
    {
      "cell_type": "markdown",
      "source": [
        "# 1. Importing Libraries"
      ],
      "metadata": {
        "id": "pqWlGIDqStbS"
      }
    },
    {
      "cell_type": "code",
      "source": [
        "import pandas as pd\n",
        "import numpy as np\n",
        "import pandas as pd\n",
        "import plotly.express as px\n",
        "import matplotlib.pyplot as plt\n",
        "import matplotlib.image as mpimg\n",
        "import seaborn as sns\n",
        "\n",
        "%matplotlib inline"
      ],
      "metadata": {
        "id": "beYsWf6yqNib"
      },
      "execution_count": 18,
      "outputs": []
    },
    {
      "cell_type": "markdown",
      "source": [
        "# 2. Loading the dataset"
      ],
      "metadata": {
        "id": "iMAnAU_GSzOE"
      }
    },
    {
      "cell_type": "markdown",
      "source": [
        "## 2.1. A look at listing data"
      ],
      "metadata": {
        "id": "DTOwlfCfrSNY"
      }
    },
    {
      "cell_type": "code",
      "source": [
        "# Use pandas to load the data from csv.gz file\n",
        "listing_df = pd.read_csv('listings.csv.gz', compression='gzip')"
      ],
      "metadata": {
        "colab": {
          "base_uri": "https://localhost:8080/"
        },
        "id": "VLeGzviYqfCv",
        "outputId": "7b20be48-8fbd-4af0-fdde-6bef04d5d4c8"
      },
      "execution_count": 6,
      "outputs": [
        {
          "output_type": "stream",
          "name": "stderr",
          "text": [
            "/usr/local/lib/python3.8/dist-packages/IPython/core/interactiveshell.py:3326: DtypeWarning: Columns (68) have mixed types.Specify dtype option on import or set low_memory=False.\n",
            "  exec(code_obj, self.user_global_ns, self.user_ns)\n"
          ]
        }
      ]
    },
    {
      "cell_type": "code",
      "source": [
        "# Looking into the first 5 rows\n",
        "listing_df.head()"
      ],
      "metadata": {
        "colab": {
          "base_uri": "https://localhost:8080/",
          "height": 612
        },
        "id": "N6Xzm2k9rnyc",
        "outputId": "17f726d1-1a3b-41e3-b88b-250b1533c6a4"
      },
      "execution_count": 7,
      "outputs": [
        {
          "output_type": "execute_result",
          "data": {
            "text/plain": [
              "     id                        listing_url       scrape_id last_scraped  \\\n",
              "0  2595  https://www.airbnb.com/rooms/2595  20221204162430   2022-12-05   \n",
              "1  5203  https://www.airbnb.com/rooms/5203  20221204162430   2022-12-05   \n",
              "2  5136  https://www.airbnb.com/rooms/5136  20221204162430   2022-12-04   \n",
              "3  5121  https://www.airbnb.com/rooms/5121  20221204162430   2022-12-05   \n",
              "4  6848  https://www.airbnb.com/rooms/6848  20221204162430   2022-12-05   \n",
              "\n",
              "            source                                      name  \\\n",
              "0      city scrape                     Skylit Midtown Castle   \n",
              "1  previous scrape        Cozy Clean Guest Room - Family Apt   \n",
              "2      city scrape  Spacious Brooklyn Duplex, Patio + Garden   \n",
              "3      city scrape                           BlissArtsSpace!   \n",
              "4      city scrape          Only 2 stops to Manhattan studio   \n",
              "\n",
              "                                         description  \\\n",
              "0  Beautiful, spacious skylit studio in the heart...   \n",
              "1  Our best guests are seeking a safe, clean, spa...   \n",
              "2  We welcome you to stay in our lovely 2 br dupl...   \n",
              "3  One room available for rent in a 2 bedroom apt...   \n",
              "4  Comfortable studio apartment with super comfor...   \n",
              "\n",
              "                               neighborhood_overview  \\\n",
              "0  Centrally located in the heart of Manhattan ju...   \n",
              "1  Our neighborhood is full of restaurants and ca...   \n",
              "2                                                NaN   \n",
              "3                                                NaN   \n",
              "4                                                NaN   \n",
              "\n",
              "                                         picture_url  host_id  ...  \\\n",
              "0  https://a0.muscache.com/pictures/f0813a11-40b2...     2845  ...   \n",
              "1  https://a0.muscache.com/pictures/103776/b37157...     7490  ...   \n",
              "2  https://a0.muscache.com/pictures/miso/Hosting-...     7378  ...   \n",
              "3  https://a0.muscache.com/pictures/2090980c-b68e...     7356  ...   \n",
              "4  https://a0.muscache.com/pictures/e4f031a7-f146...    15991  ...   \n",
              "\n",
              "  review_scores_communication review_scores_location review_scores_value  \\\n",
              "0                        4.80                   4.81                4.40   \n",
              "1                        4.95                   4.94                4.92   \n",
              "2                        5.00                   4.67                5.00   \n",
              "3                        4.91                   4.47                4.52   \n",
              "4                        4.80                   4.67                4.56   \n",
              "\n",
              "  license instant_bookable calculated_host_listings_count  \\\n",
              "0     NaN                f                              3   \n",
              "1     NaN                f                              1   \n",
              "2     NaN                f                              1   \n",
              "3     NaN                f                              2   \n",
              "4     NaN                f                              1   \n",
              "\n",
              "  calculated_host_listings_count_entire_homes  \\\n",
              "0                                           3   \n",
              "1                                           0   \n",
              "2                                           1   \n",
              "3                                           0   \n",
              "4                                           1   \n",
              "\n",
              "  calculated_host_listings_count_private_rooms  \\\n",
              "0                                            0   \n",
              "1                                            1   \n",
              "2                                            0   \n",
              "3                                            2   \n",
              "4                                            0   \n",
              "\n",
              "  calculated_host_listings_count_shared_rooms reviews_per_month  \n",
              "0                                           0              0.31  \n",
              "1                                           0              0.73  \n",
              "2                                           0              0.03  \n",
              "3                                           0              0.30  \n",
              "4                                           0              1.13  \n",
              "\n",
              "[5 rows x 75 columns]"
            ],
            "text/html": [
              "\n",
              "  <div id=\"df-86efe970-989e-43bd-bfd3-2fe8d72f5c68\">\n",
              "    <div class=\"colab-df-container\">\n",
              "      <div>\n",
              "<style scoped>\n",
              "    .dataframe tbody tr th:only-of-type {\n",
              "        vertical-align: middle;\n",
              "    }\n",
              "\n",
              "    .dataframe tbody tr th {\n",
              "        vertical-align: top;\n",
              "    }\n",
              "\n",
              "    .dataframe thead th {\n",
              "        text-align: right;\n",
              "    }\n",
              "</style>\n",
              "<table border=\"1\" class=\"dataframe\">\n",
              "  <thead>\n",
              "    <tr style=\"text-align: right;\">\n",
              "      <th></th>\n",
              "      <th>id</th>\n",
              "      <th>listing_url</th>\n",
              "      <th>scrape_id</th>\n",
              "      <th>last_scraped</th>\n",
              "      <th>source</th>\n",
              "      <th>name</th>\n",
              "      <th>description</th>\n",
              "      <th>neighborhood_overview</th>\n",
              "      <th>picture_url</th>\n",
              "      <th>host_id</th>\n",
              "      <th>...</th>\n",
              "      <th>review_scores_communication</th>\n",
              "      <th>review_scores_location</th>\n",
              "      <th>review_scores_value</th>\n",
              "      <th>license</th>\n",
              "      <th>instant_bookable</th>\n",
              "      <th>calculated_host_listings_count</th>\n",
              "      <th>calculated_host_listings_count_entire_homes</th>\n",
              "      <th>calculated_host_listings_count_private_rooms</th>\n",
              "      <th>calculated_host_listings_count_shared_rooms</th>\n",
              "      <th>reviews_per_month</th>\n",
              "    </tr>\n",
              "  </thead>\n",
              "  <tbody>\n",
              "    <tr>\n",
              "      <th>0</th>\n",
              "      <td>2595</td>\n",
              "      <td>https://www.airbnb.com/rooms/2595</td>\n",
              "      <td>20221204162430</td>\n",
              "      <td>2022-12-05</td>\n",
              "      <td>city scrape</td>\n",
              "      <td>Skylit Midtown Castle</td>\n",
              "      <td>Beautiful, spacious skylit studio in the heart...</td>\n",
              "      <td>Centrally located in the heart of Manhattan ju...</td>\n",
              "      <td>https://a0.muscache.com/pictures/f0813a11-40b2...</td>\n",
              "      <td>2845</td>\n",
              "      <td>...</td>\n",
              "      <td>4.80</td>\n",
              "      <td>4.81</td>\n",
              "      <td>4.40</td>\n",
              "      <td>NaN</td>\n",
              "      <td>f</td>\n",
              "      <td>3</td>\n",
              "      <td>3</td>\n",
              "      <td>0</td>\n",
              "      <td>0</td>\n",
              "      <td>0.31</td>\n",
              "    </tr>\n",
              "    <tr>\n",
              "      <th>1</th>\n",
              "      <td>5203</td>\n",
              "      <td>https://www.airbnb.com/rooms/5203</td>\n",
              "      <td>20221204162430</td>\n",
              "      <td>2022-12-05</td>\n",
              "      <td>previous scrape</td>\n",
              "      <td>Cozy Clean Guest Room - Family Apt</td>\n",
              "      <td>Our best guests are seeking a safe, clean, spa...</td>\n",
              "      <td>Our neighborhood is full of restaurants and ca...</td>\n",
              "      <td>https://a0.muscache.com/pictures/103776/b37157...</td>\n",
              "      <td>7490</td>\n",
              "      <td>...</td>\n",
              "      <td>4.95</td>\n",
              "      <td>4.94</td>\n",
              "      <td>4.92</td>\n",
              "      <td>NaN</td>\n",
              "      <td>f</td>\n",
              "      <td>1</td>\n",
              "      <td>0</td>\n",
              "      <td>1</td>\n",
              "      <td>0</td>\n",
              "      <td>0.73</td>\n",
              "    </tr>\n",
              "    <tr>\n",
              "      <th>2</th>\n",
              "      <td>5136</td>\n",
              "      <td>https://www.airbnb.com/rooms/5136</td>\n",
              "      <td>20221204162430</td>\n",
              "      <td>2022-12-04</td>\n",
              "      <td>city scrape</td>\n",
              "      <td>Spacious Brooklyn Duplex, Patio + Garden</td>\n",
              "      <td>We welcome you to stay in our lovely 2 br dupl...</td>\n",
              "      <td>NaN</td>\n",
              "      <td>https://a0.muscache.com/pictures/miso/Hosting-...</td>\n",
              "      <td>7378</td>\n",
              "      <td>...</td>\n",
              "      <td>5.00</td>\n",
              "      <td>4.67</td>\n",
              "      <td>5.00</td>\n",
              "      <td>NaN</td>\n",
              "      <td>f</td>\n",
              "      <td>1</td>\n",
              "      <td>1</td>\n",
              "      <td>0</td>\n",
              "      <td>0</td>\n",
              "      <td>0.03</td>\n",
              "    </tr>\n",
              "    <tr>\n",
              "      <th>3</th>\n",
              "      <td>5121</td>\n",
              "      <td>https://www.airbnb.com/rooms/5121</td>\n",
              "      <td>20221204162430</td>\n",
              "      <td>2022-12-05</td>\n",
              "      <td>city scrape</td>\n",
              "      <td>BlissArtsSpace!</td>\n",
              "      <td>One room available for rent in a 2 bedroom apt...</td>\n",
              "      <td>NaN</td>\n",
              "      <td>https://a0.muscache.com/pictures/2090980c-b68e...</td>\n",
              "      <td>7356</td>\n",
              "      <td>...</td>\n",
              "      <td>4.91</td>\n",
              "      <td>4.47</td>\n",
              "      <td>4.52</td>\n",
              "      <td>NaN</td>\n",
              "      <td>f</td>\n",
              "      <td>2</td>\n",
              "      <td>0</td>\n",
              "      <td>2</td>\n",
              "      <td>0</td>\n",
              "      <td>0.30</td>\n",
              "    </tr>\n",
              "    <tr>\n",
              "      <th>4</th>\n",
              "      <td>6848</td>\n",
              "      <td>https://www.airbnb.com/rooms/6848</td>\n",
              "      <td>20221204162430</td>\n",
              "      <td>2022-12-05</td>\n",
              "      <td>city scrape</td>\n",
              "      <td>Only 2 stops to Manhattan studio</td>\n",
              "      <td>Comfortable studio apartment with super comfor...</td>\n",
              "      <td>NaN</td>\n",
              "      <td>https://a0.muscache.com/pictures/e4f031a7-f146...</td>\n",
              "      <td>15991</td>\n",
              "      <td>...</td>\n",
              "      <td>4.80</td>\n",
              "      <td>4.67</td>\n",
              "      <td>4.56</td>\n",
              "      <td>NaN</td>\n",
              "      <td>f</td>\n",
              "      <td>1</td>\n",
              "      <td>1</td>\n",
              "      <td>0</td>\n",
              "      <td>0</td>\n",
              "      <td>1.13</td>\n",
              "    </tr>\n",
              "  </tbody>\n",
              "</table>\n",
              "<p>5 rows × 75 columns</p>\n",
              "</div>\n",
              "      <button class=\"colab-df-convert\" onclick=\"convertToInteractive('df-86efe970-989e-43bd-bfd3-2fe8d72f5c68')\"\n",
              "              title=\"Convert this dataframe to an interactive table.\"\n",
              "              style=\"display:none;\">\n",
              "        \n",
              "  <svg xmlns=\"http://www.w3.org/2000/svg\" height=\"24px\"viewBox=\"0 0 24 24\"\n",
              "       width=\"24px\">\n",
              "    <path d=\"M0 0h24v24H0V0z\" fill=\"none\"/>\n",
              "    <path d=\"M18.56 5.44l.94 2.06.94-2.06 2.06-.94-2.06-.94-.94-2.06-.94 2.06-2.06.94zm-11 1L8.5 8.5l.94-2.06 2.06-.94-2.06-.94L8.5 2.5l-.94 2.06-2.06.94zm10 10l.94 2.06.94-2.06 2.06-.94-2.06-.94-.94-2.06-.94 2.06-2.06.94z\"/><path d=\"M17.41 7.96l-1.37-1.37c-.4-.4-.92-.59-1.43-.59-.52 0-1.04.2-1.43.59L10.3 9.45l-7.72 7.72c-.78.78-.78 2.05 0 2.83L4 21.41c.39.39.9.59 1.41.59.51 0 1.02-.2 1.41-.59l7.78-7.78 2.81-2.81c.8-.78.8-2.07 0-2.86zM5.41 20L4 18.59l7.72-7.72 1.47 1.35L5.41 20z\"/>\n",
              "  </svg>\n",
              "      </button>\n",
              "      \n",
              "  <style>\n",
              "    .colab-df-container {\n",
              "      display:flex;\n",
              "      flex-wrap:wrap;\n",
              "      gap: 12px;\n",
              "    }\n",
              "\n",
              "    .colab-df-convert {\n",
              "      background-color: #E8F0FE;\n",
              "      border: none;\n",
              "      border-radius: 50%;\n",
              "      cursor: pointer;\n",
              "      display: none;\n",
              "      fill: #1967D2;\n",
              "      height: 32px;\n",
              "      padding: 0 0 0 0;\n",
              "      width: 32px;\n",
              "    }\n",
              "\n",
              "    .colab-df-convert:hover {\n",
              "      background-color: #E2EBFA;\n",
              "      box-shadow: 0px 1px 2px rgba(60, 64, 67, 0.3), 0px 1px 3px 1px rgba(60, 64, 67, 0.15);\n",
              "      fill: #174EA6;\n",
              "    }\n",
              "\n",
              "    [theme=dark] .colab-df-convert {\n",
              "      background-color: #3B4455;\n",
              "      fill: #D2E3FC;\n",
              "    }\n",
              "\n",
              "    [theme=dark] .colab-df-convert:hover {\n",
              "      background-color: #434B5C;\n",
              "      box-shadow: 0px 1px 3px 1px rgba(0, 0, 0, 0.15);\n",
              "      filter: drop-shadow(0px 1px 2px rgba(0, 0, 0, 0.3));\n",
              "      fill: #FFFFFF;\n",
              "    }\n",
              "  </style>\n",
              "\n",
              "      <script>\n",
              "        const buttonEl =\n",
              "          document.querySelector('#df-86efe970-989e-43bd-bfd3-2fe8d72f5c68 button.colab-df-convert');\n",
              "        buttonEl.style.display =\n",
              "          google.colab.kernel.accessAllowed ? 'block' : 'none';\n",
              "\n",
              "        async function convertToInteractive(key) {\n",
              "          const element = document.querySelector('#df-86efe970-989e-43bd-bfd3-2fe8d72f5c68');\n",
              "          const dataTable =\n",
              "            await google.colab.kernel.invokeFunction('convertToInteractive',\n",
              "                                                     [key], {});\n",
              "          if (!dataTable) return;\n",
              "\n",
              "          const docLinkHtml = 'Like what you see? Visit the ' +\n",
              "            '<a target=\"_blank\" href=https://colab.research.google.com/notebooks/data_table.ipynb>data table notebook</a>'\n",
              "            + ' to learn more about interactive tables.';\n",
              "          element.innerHTML = '';\n",
              "          dataTable['output_type'] = 'display_data';\n",
              "          await google.colab.output.renderOutput(dataTable, element);\n",
              "          const docLink = document.createElement('div');\n",
              "          docLink.innerHTML = docLinkHtml;\n",
              "          element.appendChild(docLink);\n",
              "        }\n",
              "      </script>\n",
              "    </div>\n",
              "  </div>\n",
              "  "
            ]
          },
          "metadata": {},
          "execution_count": 7
        }
      ]
    },
    {
      "cell_type": "code",
      "source": [
        "# Check the length of list and the number of features\n",
        "listing_df.shape"
      ],
      "metadata": {
        "colab": {
          "base_uri": "https://localhost:8080/"
        },
        "id": "r8Typz_Mrr8V",
        "outputId": "b021b1d8-4f9a-4fd7-a915-6923f83ba181"
      },
      "execution_count": 8,
      "outputs": [
        {
          "output_type": "execute_result",
          "data": {
            "text/plain": [
              "(41533, 75)"
            ]
          },
          "metadata": {},
          "execution_count": 8
        }
      ]
    },
    {
      "cell_type": "code",
      "source": [
        "# Check the features\n",
        "listing_df.info()"
      ],
      "metadata": {
        "colab": {
          "base_uri": "https://localhost:8080/"
        },
        "id": "ZystpzsCrsxH",
        "outputId": "63aaea67-6551-45cd-bc0c-2ba11d8c102b"
      },
      "execution_count": 9,
      "outputs": [
        {
          "output_type": "stream",
          "name": "stdout",
          "text": [
            "<class 'pandas.core.frame.DataFrame'>\n",
            "RangeIndex: 41533 entries, 0 to 41532\n",
            "Data columns (total 75 columns):\n",
            " #   Column                                        Non-Null Count  Dtype  \n",
            "---  ------                                        --------------  -----  \n",
            " 0   id                                            41533 non-null  int64  \n",
            " 1   listing_url                                   41533 non-null  object \n",
            " 2   scrape_id                                     41533 non-null  int64  \n",
            " 3   last_scraped                                  41533 non-null  object \n",
            " 4   source                                        41533 non-null  object \n",
            " 5   name                                          41520 non-null  object \n",
            " 6   description                                   40747 non-null  object \n",
            " 7   neighborhood_overview                         24089 non-null  object \n",
            " 8   picture_url                                   41533 non-null  object \n",
            " 9   host_id                                       41533 non-null  int64  \n",
            " 10  host_url                                      41533 non-null  object \n",
            " 11  host_name                                     41528 non-null  object \n",
            " 12  host_since                                    41528 non-null  object \n",
            " 13  host_location                                 33788 non-null  object \n",
            " 14  host_about                                    23221 non-null  object \n",
            " 15  host_response_time                            27888 non-null  object \n",
            " 16  host_response_rate                            27888 non-null  object \n",
            " 17  host_acceptance_rate                          29322 non-null  object \n",
            " 18  host_is_superhost                             41504 non-null  object \n",
            " 19  host_thumbnail_url                            41528 non-null  object \n",
            " 20  host_picture_url                              41528 non-null  object \n",
            " 21  host_neighbourhood                            33344 non-null  object \n",
            " 22  host_listings_count                           41528 non-null  float64\n",
            " 23  host_total_listings_count                     41528 non-null  float64\n",
            " 24  host_verifications                            41533 non-null  object \n",
            " 25  host_has_profile_pic                          41528 non-null  object \n",
            " 26  host_identity_verified                        41528 non-null  object \n",
            " 27  neighbourhood                                 24090 non-null  object \n",
            " 28  neighbourhood_cleansed                        41533 non-null  object \n",
            " 29  neighbourhood_group_cleansed                  41533 non-null  object \n",
            " 30  latitude                                      41533 non-null  float64\n",
            " 31  longitude                                     41533 non-null  float64\n",
            " 32  property_type                                 41533 non-null  object \n",
            " 33  room_type                                     41533 non-null  object \n",
            " 34  accommodates                                  41533 non-null  int64  \n",
            " 35  bathrooms                                     0 non-null      float64\n",
            " 36  bathrooms_text                                41456 non-null  object \n",
            " 37  bedrooms                                      37711 non-null  float64\n",
            " 38  beds                                          40592 non-null  float64\n",
            " 39  amenities                                     41533 non-null  object \n",
            " 40  price                                         41533 non-null  object \n",
            " 41  minimum_nights                                41533 non-null  int64  \n",
            " 42  maximum_nights                                41533 non-null  int64  \n",
            " 43  minimum_minimum_nights                        41519 non-null  float64\n",
            " 44  maximum_minimum_nights                        41519 non-null  float64\n",
            " 45  minimum_maximum_nights                        41519 non-null  float64\n",
            " 46  maximum_maximum_nights                        41519 non-null  float64\n",
            " 47  minimum_nights_avg_ntm                        41519 non-null  float64\n",
            " 48  maximum_nights_avg_ntm                        41519 non-null  float64\n",
            " 49  calendar_updated                              0 non-null      float64\n",
            " 50  has_availability                              41533 non-null  object \n",
            " 51  availability_30                               41533 non-null  int64  \n",
            " 52  availability_60                               41533 non-null  int64  \n",
            " 53  availability_90                               41533 non-null  int64  \n",
            " 54  availability_365                              41533 non-null  int64  \n",
            " 55  calendar_last_scraped                         41533 non-null  object \n",
            " 56  number_of_reviews                             41533 non-null  int64  \n",
            " 57  number_of_reviews_ltm                         41533 non-null  int64  \n",
            " 58  number_of_reviews_l30d                        41533 non-null  int64  \n",
            " 59  first_review                                  32140 non-null  object \n",
            " 60  last_review                                   32140 non-null  object \n",
            " 61  review_scores_rating                          32140 non-null  float64\n",
            " 62  review_scores_accuracy                        31692 non-null  float64\n",
            " 63  review_scores_cleanliness                     31702 non-null  float64\n",
            " 64  review_scores_checkin                         31688 non-null  float64\n",
            " 65  review_scores_communication                   31697 non-null  float64\n",
            " 66  review_scores_location                        31685 non-null  float64\n",
            " 67  review_scores_value                           31685 non-null  float64\n",
            " 68  license                                       1 non-null      object \n",
            " 69  instant_bookable                              41533 non-null  object \n",
            " 70  calculated_host_listings_count                41533 non-null  int64  \n",
            " 71  calculated_host_listings_count_entire_homes   41533 non-null  int64  \n",
            " 72  calculated_host_listings_count_private_rooms  41533 non-null  int64  \n",
            " 73  calculated_host_listings_count_shared_rooms   41533 non-null  int64  \n",
            " 74  reviews_per_month                             32140 non-null  float64\n",
            "dtypes: float64(22), int64(17), object(36)\n",
            "memory usage: 23.8+ MB\n"
          ]
        }
      ]
    },
    {
      "cell_type": "code",
      "source": [
        "# After looking into the features of the data, I have splitted these to different\n",
        "# groups for data analysis\n",
        "\n",
        "# ID info\n",
        "id_cols = ['id', 'listing_url', 'scrape_id', 'last_scraped', 'source']\n",
        "\n",
        "# Description\n",
        "des_cols = ['name', 'description', 'neighborhood_overview', 'picture_url']\n",
        "\n",
        "# Host Info\n",
        "host_cols = ['host_id', 'host_url', 'host_name', 'host_since',\n",
        "            'host_location', 'host_about', 'host_response_time',\n",
        "            'host_response_rate', 'host_acceptance_rate', 'host_is_superhost',\n",
        "            'host_thumbnail_url', 'host_picture_url', 'host_neighbourhood',\n",
        "            'host_listings_count', 'host_total_listings_count',\n",
        "            'host_verifications', 'host_has_profile_pic', \n",
        "            'host_identity_verified', 'calculated_host_listings_count',\n",
        "            'calculated_host_listings_count_private_rooms',\n",
        "            'calculated_host_listings_count_shared_rooms']\n",
        "\n",
        "# Location Info\n",
        "loc_cols = ['neighbourhood', 'neighbourhood_cleansed',\n",
        "           'neighbourhood_group_cleansed', 'latitude', 'longitude']\n",
        "\n",
        "# Apartment Info\n",
        "apt_cols = ['property_type', 'room_type', 'accommodates',\n",
        "           'bathrooms', 'bathrooms_text', 'bedrooms', 'beds', 'amenities']\n",
        "\n",
        "# Length of stay Info\n",
        "night_cols = ['minimum_nights', 'maximum_nights', 'minimum_minimum_nights',\n",
        "              'maximum_minimum_nights', 'minimum_maximum_nights',\n",
        "              'maximum_maximum_nights', 'minimum_nights_avg_ntm',\n",
        "              'maximum_nights_avg_ntm']\n",
        "\n",
        "# Price Info\n",
        "price_cols = ['price']\n",
        "\n",
        "# Availability Info\n",
        "aval_cols = ['calendar_updated', 'has_availability',\n",
        "             'availability_30', 'availability_60', 'availability_90',\n",
        "             'availability_365', 'calendar_last_scraped']\n",
        "\n",
        "# Reviews\n",
        "rev_cols = ['number_of_reviews',\n",
        "            'number_of_reviews_ltm', 'number_of_reviews_l30d', 'first_review',\n",
        "            'last_review', 'review_scores_rating', 'review_scores_accuracy',\n",
        "            'review_scores_cleanliness', 'review_scores_checkin',\n",
        "            'review_scores_communication', 'review_scores_location',\n",
        "            'review_scores_value', 'reviews_per_month']\n",
        "\n",
        "# Booking Info\n",
        "book_cols = ['license', 'instant_bookable']\n",
        "\n",
        "# Useful columns\n",
        "possible_cols = ['name', 'description', 'host_id', 'host_name', 'host_is_superhost', \n",
        "                 'neighbourhood_cleansed', 'neighbourhood_group_cleansed', \n",
        "                 'latitude', 'longitude', 'room_type', 'accommodates', \n",
        "                 'bathrooms_text', 'bedrooms', 'beds', 'amenities', 'price',\n",
        "                 'minimum_nights', 'maximum_nights', 'availability_365', \n",
        "                 'number_of_reviews', 'reviews_per_month', 'review_scores_rating', \n",
        "                 'review_scores_accuracy', 'review_scores_cleanliness', \n",
        "                 'review_scores_checkin', 'review_scores_communication', \n",
        "                 'review_scores_location', 'review_scores_value', \n",
        "                 'calculated_host_listings_count']"
      ],
      "metadata": {
        "id": "6IHXAXeBrvwR"
      },
      "execution_count": 10,
      "outputs": []
    },
    {
      "cell_type": "markdown",
      "source": [
        "# 3. Data Cleaning"
      ],
      "metadata": {
        "id": "tZrfASImTCNE"
      }
    },
    {
      "cell_type": "markdown",
      "source": [
        "## 3.1. Checking the NaN values"
      ],
      "metadata": {
        "id": "OpbpjAz3t8K0"
      }
    },
    {
      "cell_type": "code",
      "source": [
        "# Calculate the percentage of the missing values in each column, then put it\n",
        "# into a data frame\n",
        "listing_df_na = (listing_df.isnull().mean()) * 100\n",
        "listing_df_na = listing_df_na.drop(listing_df_na[listing_df_na == 0].index)\n",
        "listing_df_na = listing_df_na.sort_values(ascending=False)[0:20]\n",
        "\n",
        "# Setting figure size\n",
        "f, ax = plt.subplots(figsize=(15, 12))\n",
        "sns.barplot(x=listing_df_na, y=listing_df_na.index)\n",
        "\n",
        "# Custom the chart\n",
        "sns.set(style='ticks', context='notebook')\n",
        "plt.xlabel('Percent of missing values', fontsize=15)\n",
        "plt.ylabel('Features', fontsize=15)\n",
        "plt.title('The percentage of missing values by columns', fontsize=15)"
      ],
      "metadata": {
        "colab": {
          "base_uri": "https://localhost:8080/",
          "height": 754
        },
        "id": "R_DSFRxrt7l4",
        "outputId": "5a8dc095-2446-4583-fc78-912f86c4e4eb"
      },
      "execution_count": 11,
      "outputs": [
        {
          "output_type": "execute_result",
          "data": {
            "text/plain": [
              "Text(0.5, 1.0, 'The percentage of missing values by columns')"
            ]
          },
          "metadata": {},
          "execution_count": 11
        },
        {
          "output_type": "display_data",
          "data": {
            "text/plain": [
              "<Figure size 1080x864 with 1 Axes>"
            ],
            "image/png": "[encoded data removed]"
          },
          "metadata": {
            "needs_background": "light"
          }
        }
      ]
    },
    {
      "cell_type": "markdown",
      "source": [
        "## 3.2. Drop unwanted columns"
      ],
      "metadata": {
        "id": "Ibcp9Xx9yeHC"
      }
    },
    {
      "cell_type": "code",
      "source": [
        "def general_clean(df, missing_rate=0.75, useful_vals=list()):\n",
        "    '''\n",
        "    INPUT:\n",
        "    df - a dataframe holding all the variables of interest\n",
        "    missing_rate - the acceptable missing value percentage\n",
        "    useful_vals - the useful columns for our data analysis\n",
        "    \n",
        "    OUTPUT:\n",
        "    new_df - a cleaner data set\n",
        "    '''\n",
        "    # Extract the useful columns\n",
        "    df = df[useful_vals]\n",
        "\n",
        "    # Drop columns with all NaN values\n",
        "    df = df.dropna(how='all', axis=1)\n",
        "\n",
        "    # Drop the features with the missing value rate above 75%\n",
        "    df_na = df.isnull().mean()\n",
        "    df = df.drop(df_na[df_na > missing_rate].index, axis=1)\n",
        "\n",
        "    # Drop columns with a single value\n",
        "    for col in df.columns:\n",
        "      if len(df[col].unique()) == 1:\n",
        "        df = df.drop(col,axis=1)\n",
        "\n",
        "    return df"
      ],
      "metadata": {
        "id": "cyIPYihwyTZ3"
      },
      "execution_count": 12,
      "outputs": []
    },
    {
      "cell_type": "code",
      "source": [
        "listing_df = general_clean(df=listing_df, useful_vals=possible_cols)"
      ],
      "metadata": {
        "id": "7mzNQjUSypsj"
      },
      "execution_count": 13,
      "outputs": []
    },
    {
      "cell_type": "markdown",
      "source": [
        "## 3.3. Some Transformations"
      ],
      "metadata": {
        "id": "LO0iQ76eyuiB"
      }
    },
    {
      "cell_type": "code",
      "source": [
        "def clean_price(x):\n",
        "    '''\n",
        "    INPUT:\n",
        "    x - a string holding the price value\n",
        "    \n",
        "    OUTPUT:\n",
        "    x_clean - x is cleaned by removing '$', ',', and is saved as float\n",
        "    '''\n",
        "    try:\n",
        "        x_clean =float(x.replace('$', '').replace(',', ''))\n",
        "        return x_clean\n",
        "    except:\n",
        "        return x"
      ],
      "metadata": {
        "id": "fNfkfIfXy14W"
      },
      "execution_count": 14,
      "outputs": []
    },
    {
      "cell_type": "code",
      "source": [
        "listing_df['price'] = listing_df['price'].apply(lambda x: clean_price(x))"
      ],
      "metadata": {
        "id": "Wx5xzhHty4yG"
      },
      "execution_count": 15,
      "outputs": []
    },
    {
      "cell_type": "code",
      "source": [
        "# Convert all values in description to string\n",
        "listing_df['description'] = listing_df['description'].astype('str')"
      ],
      "metadata": {
        "id": "4ddxcVJRy5U6"
      },
      "execution_count": 16,
      "outputs": []
    },
    {
      "cell_type": "markdown",
      "source": [
        "# 4. Data Visualization"
      ],
      "metadata": {
        "id": "Lgk8RYXETFJN"
      }
    },
    {
      "cell_type": "markdown",
      "source": [
        "## 4.1. Hosts with the most listings in NYC"
      ],
      "metadata": {
        "id": "pmh8ppn2vBCp"
      }
    },
    {
      "cell_type": "code",
      "source": [
        "# Extract the top 10 hosts and save into a dataframe named 'top_host_vals'\n",
        "top_host_vals = listing_df['host_id'].value_counts().head(10).reset_index()\n",
        "top_host_vals.rename(columns={'index':'Host_ID', 'host_id':'Count'}, inplace=True)\n",
        "top_host_vals['Host_ID'] = top_host_vals['Host_ID'].astype('str')\n",
        "top_host_vals"
      ],
      "metadata": {
        "id": "Ek2Pxc14yqSL",
        "outputId": "49d046d4-ac26-493e-973c-85b37e026ee6",
        "colab": {
          "base_uri": "https://localhost:8080/",
          "height": 363
        }
      },
      "execution_count": 69,
      "outputs": [
        {
          "output_type": "execute_result",
          "data": {
            "text/plain": [
              "     Host_ID  Count\n",
              "0  107434423    487\n",
              "1    3223938    345\n",
              "2  305240193    214\n",
              "3  158969505    200\n",
              "4   19303369    196\n",
              "5  200239515    175\n",
              "6   22541573    172\n",
              "7  204704622    166\n",
              "8   51501835    130\n",
              "9  174792040    130"
            ],
            "text/html": [
              "\n",
              "  <div id=\"df-b9692405-23ad-40f2-be7c-79085ba87fbe\">\n",
              "    <div class=\"colab-df-container\">\n",
              "      <div>\n",
              "<style scoped>\n",
              "    .dataframe tbody tr th:only-of-type {\n",
              "        vertical-align: middle;\n",
              "    }\n",
              "\n",
              "    .dataframe tbody tr th {\n",
              "        vertical-align: top;\n",
              "    }\n",
              "\n",
              "    .dataframe thead th {\n",
              "        text-align: right;\n",
              "    }\n",
              "</style>\n",
              "<table border=\"1\" class=\"dataframe\">\n",
              "  <thead>\n",
              "    <tr style=\"text-align: right;\">\n",
              "      <th></th>\n",
              "      <th>Host_ID</th>\n",
              "      <th>Count</th>\n",
              "    </tr>\n",
              "  </thead>\n",
              "  <tbody>\n",
              "    <tr>\n",
              "      <th>0</th>\n",
              "      <td>107434423</td>\n",
              "      <td>487</td>\n",
              "    </tr>\n",
              "    <tr>\n",
              "      <th>1</th>\n",
              "      <td>3223938</td>\n",
              "      <td>345</td>\n",
              "    </tr>\n",
              "    <tr>\n",
              "      <th>2</th>\n",
              "      <td>305240193</td>\n",
              "      <td>214</td>\n",
              "    </tr>\n",
              "    <tr>\n",
              "      <th>3</th>\n",
              "      <td>158969505</td>\n",
              "      <td>200</td>\n",
              "    </tr>\n",
              "    <tr>\n",
              "      <th>4</th>\n",
              "      <td>19303369</td>\n",
              "      <td>196</td>\n",
              "    </tr>\n",
              "    <tr>\n",
              "      <th>5</th>\n",
              "      <td>200239515</td>\n",
              "      <td>175</td>\n",
              "    </tr>\n",
              "    <tr>\n",
              "      <th>6</th>\n",
              "      <td>22541573</td>\n",
              "      <td>172</td>\n",
              "    </tr>\n",
              "    <tr>\n",
              "      <th>7</th>\n",
              "      <td>204704622</td>\n",
              "      <td>166</td>\n",
              "    </tr>\n",
              "    <tr>\n",
              "      <th>8</th>\n",
              "      <td>51501835</td>\n",
              "      <td>130</td>\n",
              "    </tr>\n",
              "    <tr>\n",
              "      <th>9</th>\n",
              "      <td>174792040</td>\n",
              "      <td>130</td>\n",
              "    </tr>\n",
              "  </tbody>\n",
              "</table>\n",
              "</div>\n",
              "      <button class=\"colab-df-convert\" onclick=\"convertToInteractive('df-b9692405-23ad-40f2-be7c-79085ba87fbe')\"\n",
              "              title=\"Convert this dataframe to an interactive table.\"\n",
              "              style=\"display:none;\">\n",
              "        \n",
              "  <svg xmlns=\"http://www.w3.org/2000/svg\" height=\"24px\"viewBox=\"0 0 24 24\"\n",
              "       width=\"24px\">\n",
              "    <path d=\"M0 0h24v24H0V0z\" fill=\"none\"/>\n",
              "    <path d=\"M18.56 5.44l.94 2.06.94-2.06 2.06-.94-2.06-.94-.94-2.06-.94 2.06-2.06.94zm-11 1L8.5 8.5l.94-2.06 2.06-.94-2.06-.94L8.5 2.5l-.94 2.06-2.06.94zm10 10l.94 2.06.94-2.06 2.06-.94-2.06-.94-.94-2.06-.94 2.06-2.06.94z\"/><path d=\"M17.41 7.96l-1.37-1.37c-.4-.4-.92-.59-1.43-.59-.52 0-1.04.2-1.43.59L10.3 9.45l-7.72 7.72c-.78.78-.78 2.05 0 2.83L4 21.41c.39.39.9.59 1.41.59.51 0 1.02-.2 1.41-.59l7.78-7.78 2.81-2.81c.8-.78.8-2.07 0-2.86zM5.41 20L4 18.59l7.72-7.72 1.47 1.35L5.41 20z\"/>\n",
              "  </svg>\n",
              "      </button>\n",
              "      \n",
              "  <style>\n",
              "    .colab-df-container {\n",
              "      display:flex;\n",
              "      flex-wrap:wrap;\n",
              "      gap: 12px;\n",
              "    }\n",
              "\n",
              "    .colab-df-convert {\n",
              "      background-color: #E8F0FE;\n",
              "      border: none;\n",
              "      border-radius: 50%;\n",
              "      cursor: pointer;\n",
              "      display: none;\n",
              "      fill: #1967D2;\n",
              "      height: 32px;\n",
              "      padding: 0 0 0 0;\n",
              "      width: 32px;\n",
              "    }\n",
              "\n",
              "    .colab-df-convert:hover {\n",
              "      background-color: #E2EBFA;\n",
              "      box-shadow: 0px 1px 2px rgba(60, 64, 67, 0.3), 0px 1px 3px 1px rgba(60, 64, 67, 0.15);\n",
              "      fill: #174EA6;\n",
              "    }\n",
              "\n",
              "    [theme=dark] .colab-df-convert {\n",
              "      background-color: #3B4455;\n",
              "      fill: #D2E3FC;\n",
              "    }\n",
              "\n",
              "    [theme=dark] .colab-df-convert:hover {\n",
              "      background-color: #434B5C;\n",
              "      box-shadow: 0px 1px 3px 1px rgba(0, 0, 0, 0.15);\n",
              "      filter: drop-shadow(0px 1px 2px rgba(0, 0, 0, 0.3));\n",
              "      fill: #FFFFFF;\n",
              "    }\n",
              "  </style>\n",
              "\n",
              "      <script>\n",
              "        const buttonEl =\n",
              "          document.querySelector('#df-b9692405-23ad-40f2-be7c-79085ba87fbe button.colab-df-convert');\n",
              "        buttonEl.style.display =\n",
              "          google.colab.kernel.accessAllowed ? 'block' : 'none';\n",
              "\n",
              "        async function convertToInteractive(key) {\n",
              "          const element = document.querySelector('#df-b9692405-23ad-40f2-be7c-79085ba87fbe');\n",
              "          const dataTable =\n",
              "            await google.colab.kernel.invokeFunction('convertToInteractive',\n",
              "                                                     [key], {});\n",
              "          if (!dataTable) return;\n",
              "\n",
              "          const docLinkHtml = 'Like what you see? Visit the ' +\n",
              "            '<a target=\"_blank\" href=https://colab.research.google.com/notebooks/data_table.ipynb>data table notebook</a>'\n",
              "            + ' to learn more about interactive tables.';\n",
              "          element.innerHTML = '';\n",
              "          dataTable['output_type'] = 'display_data';\n",
              "          await google.colab.output.renderOutput(dataTable, element);\n",
              "          const docLink = document.createElement('div');\n",
              "          docLink.innerHTML = docLinkHtml;\n",
              "          element.appendChild(docLink);\n",
              "        }\n",
              "      </script>\n",
              "    </div>\n",
              "  </div>\n",
              "  "
            ]
          },
          "metadata": {},
          "execution_count": 69
        }
      ]
    },
    {
      "cell_type": "code",
      "source": [
        "# Setting figure\n",
        "plt.figure(figsize=(15, 10))\n",
        "sns.set(style='whitegrid', context='talk')\n",
        "\n",
        "# Custom the chart\n",
        "viz_1 = sns.barplot(x=\"Count\", y=\"Host_ID\", data=top_host_vals, palette='viridis')\n",
        "viz_1.set_title('Top 10 hosts with the most listings in NYC')\n",
        "viz_1.set_ylabel('Host IDs')\n",
        "viz_1.set_xlabel('Count of listings')"
      ],
      "metadata": {
        "id": "ZrERrA-52dGb",
        "outputId": "988ce327-8d00-4778-efe9-a2576fcdad2b",
        "colab": {
          "base_uri": "https://localhost:8080/",
          "height": 664
        }
      },
      "execution_count": 70,
      "outputs": [
        {
          "output_type": "execute_result",
          "data": {
            "text/plain": [
              "Text(0.5, 0, 'Count of listings')"
            ]
          },
          "metadata": {},
          "execution_count": 70
        },
        {
          "output_type": "display_data",
          "data": {
            "text/plain": [
              "<Figure size 1080x720 with 1 Axes>"
            ],
            "image/png": "[encoded data removed]"
          },
          "metadata": {}
        }
      ]
    },
    {
      "cell_type": "markdown",
      "source": [
        "# 5. Word Cloud"
      ],
      "metadata": {
        "id": "dlm6Mg3DTImj"
      }
    },
    {
      "cell_type": "markdown",
      "source": [
        "# 6. Regression Analysis"
      ],
      "metadata": {
        "id": "o7yLfWifTNr1"
      }
    }
  ],
  "metadata": {
    "kernelspec": {
      "display_name": "Python 3",
      "language": "python",
      "name": "python3"
    },
    "language_info": {
      "codemirror_mode": {
        "name": "ipython",
        "version": 2
      },
      "file_extension": ".py",
      "mimetype": "text/x-python",
      "name": "python",
      "nbconvert_exporter": "python",
      "pygments_lexer": "ipython2",
      "version": "2.7.6"
    },
    "colab": {
      "provenance": [],
      "toc_visible": true
    }
  },
  "nbformat": 4,
  "nbformat_minor": 0
}