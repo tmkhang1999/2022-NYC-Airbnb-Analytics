{
  "cells": [
    {
      "cell_type": "markdown",
      "source": [
        "# 1. Importing Libraries"
      ],
      "metadata": {
        "id": "pqWlGIDqStbS"
      }
    },
    {
      "cell_type": "code",
      "source": [
        "import pandas as pd\n",
        "import numpy as np\n",
        "import pandas as pd\n",
        "import plotly.express as px\n",
        "import matplotlib.pyplot as plt\n",
        "import matplotlib.image as mpimg\n",
        "import seaborn as sns\n",
        "\n",
        "%matplotlib inline"
      ],
      "metadata": {
        "id": "beYsWf6yqNib"
      },
      "execution_count": 18,
      "outputs": []
    },
    {
      "cell_type": "markdown",
      "source": [
        "# 2. Loading the dataset"
      ],
      "metadata": {
        "id": "iMAnAU_GSzOE"
      }
    },
    {
      "cell_type": "markdown",
      "source": [
        "## 2.1. A look at listing data"
      ],
      "metadata": {
        "id": "DTOwlfCfrSNY"
      }
    },
    {
      "cell_type": "code",
      "source": [
        "# Use pandas to load the data from csv.gz file\n",
        "listing_df = pd.read_csv('listings.csv.gz', compression='gzip')"
      ],
      "metadata": {
        "id": "VLeGzviYqfCv"
      },
      "execution_count": null,
      "outputs": []
    },
    {
      "cell_type": "code",
      "source": [
        "# Looking into the first 5 rows\n",
        "listing_df.head()"
      ],
      "metadata": {
        "colab": {
          "base_uri": "https://localhost:8080/",
          "height": 612
        },
        "id": "N6Xzm2k9rnyc",
        "outputId": "42fd924b-41b0-4e7a-f2b1-55f468c7dd1d"
      },
      "execution_count": 78,
      "outputs": [
        {
          "output_type": "execute_result",
          "data": {
            "text/plain": [
              "     id                        listing_url       scrape_id last_scraped  \\\n",
              "0  2595  https://www.airbnb.com/rooms/2595  20221204162430   2022-12-05   \n",
              "1  5203  https://www.airbnb.com/rooms/5203  20221204162430   2022-12-05   \n",
              "2  5136  https://www.airbnb.com/rooms/5136  20221204162430   2022-12-04   \n",
              "3  5121  https://www.airbnb.com/rooms/5121  20221204162430   2022-12-05   \n",
              "4  6848  https://www.airbnb.com/rooms/6848  20221204162430   2022-12-05   \n",
              "\n",
              "            source                                      name  \\\n",
              "0      city scrape                     Skylit Midtown Castle   \n",
              "1  previous scrape        Cozy Clean Guest Room - Family Apt   \n",
              "2      city scrape  Spacious Brooklyn Duplex, Patio + Garden   \n",
              "3      city scrape                           BlissArtsSpace!   \n",
              "4      city scrape          Only 2 stops to Manhattan studio   \n",
              "\n",
              "                                         description  \\\n",
              "0  Beautiful, spacious skylit studio in the heart...   \n",
              "1  Our best guests are seeking a safe, clean, spa...   \n",
              "2  We welcome you to stay in our lovely 2 br dupl...   \n",
              "3  One room available for rent in a 2 bedroom apt...   \n",
              "4  Comfortable studio apartment with super comfor...   \n",
              "\n",
              "                               neighborhood_overview  \\\n",
              "0  Centrally located in the heart of Manhattan ju...   \n",
              "1  Our neighborhood is full of restaurants and ca...   \n",
              "2                                                NaN   \n",
              "3                                                NaN   \n",
              "4                                                NaN   \n",
              "\n",
              "                                         picture_url  host_id  ...  \\\n",
              "0  https://a0.muscache.com/pictures/f0813a11-40b2...     2845  ...   \n",
              "1  https://a0.muscache.com/pictures/103776/b37157...     7490  ...   \n",
              "2  https://a0.muscache.com/pictures/miso/Hosting-...     7378  ...   \n",
              "3  https://a0.muscache.com/pictures/2090980c-b68e...     7356  ...   \n",
              "4  https://a0.muscache.com/pictures/e4f031a7-f146...    15991  ...   \n",
              "\n",
              "  review_scores_communication review_scores_location review_scores_value  \\\n",
              "0                        4.80                   4.81                4.40   \n",
              "1                        4.95                   4.94                4.92   \n",
              "2                        5.00                   4.67                5.00   \n",
              "3                        4.91                   4.47                4.52   \n",
              "4                        4.80                   4.67                4.56   \n",
              "\n",
              "  license instant_bookable calculated_host_listings_count  \\\n",
              "0     NaN                f                              3   \n",
              "1     NaN                f                              1   \n",
              "2     NaN                f                              1   \n",
              "3     NaN                f                              2   \n",
              "4     NaN                f                              1   \n",
              "\n",
              "  calculated_host_listings_count_entire_homes  \\\n",
              "0                                           3   \n",
              "1                                           0   \n",
              "2                                           1   \n",
              "3                                           0   \n",
              "4                                           1   \n",
              "\n",
              "  calculated_host_listings_count_private_rooms  \\\n",
              "0                                            0   \n",
              "1                                            1   \n",
              "2                                            0   \n",
              "3                                            2   \n",
              "4                                            0   \n",
              "\n",
              "  calculated_host_listings_count_shared_rooms reviews_per_month  \n",
              "0                                           0              0.31  \n",
              "1                                           0              0.73  \n",
              "2                                           0              0.03  \n",
              "3                                           0              0.30  \n",
              "4                                           0              1.13  \n",
              "\n",
              "[5 rows x 75 columns]"
            ],
            "text/html": [
              "\n",
              "  <div id=\"df-980a6c75-8212-498e-b568-3220c6d2a988\">\n",
              "    <div class=\"colab-df-container\">\n",
              "      <div>\n",
              "<style scoped>\n",
              "    .dataframe tbody tr th:only-of-type {\n",
              "        vertical-align: middle;\n",
              "    }\n",
              "\n",
              "    .dataframe tbody tr th {\n",
              "        vertical-align: top;\n",
              "    }\n",
              "\n",
              "    .dataframe thead th {\n",
              "        text-align: right;\n",
              "    }\n",
              "</style>\n",
              "<table border=\"1\" class=\"dataframe\">\n",
              "  <thead>\n",
              "    <tr style=\"text-align: right;\">\n",
              "      <th></th>\n",
              "      <th>id</th>\n",
              "      <th>listing_url</th>\n",
              "      <th>scrape_id</th>\n",
              "      <th>last_scraped</th>\n",
              "      <th>source</th>\n",
              "      <th>name</th>\n",
              "      <th>description</th>\n",
              "      <th>neighborhood_overview</th>\n",
              "      <th>picture_url</th>\n",
              "      <th>host_id</th>\n",
              "      <th>...</th>\n",
              "      <th>review_scores_communication</th>\n",
              "      <th>review_scores_location</th>\n",
              "      <th>review_scores_value</th>\n",
              "      <th>license</th>\n",
              "      <th>instant_bookable</th>\n",
              "      <th>calculated_host_listings_count</th>\n",
              "      <th>calculated_host_listings_count_entire_homes</th>\n",
              "      <th>calculated_host_listings_count_private_rooms</th>\n",
              "      <th>calculated_host_listings_count_shared_rooms</th>\n",
              "      <th>reviews_per_month</th>\n",
              "    </tr>\n",
              "  </thead>\n",
              "  <tbody>\n",
              "    <tr>\n",
              "      <th>0</th>\n",
              "      <td>2595</td>\n",
              "      <td>https://www.airbnb.com/rooms/2595</td>\n",
              "      <td>20221204162430</td>\n",
              "      <td>2022-12-05</td>\n",
              "      <td>city scrape</td>\n",
              "      <td>Skylit Midtown Castle</td>\n",
              "      <td>Beautiful, spacious skylit studio in the heart...</td>\n",
              "      <td>Centrally located in the heart of Manhattan ju...</td>\n",
              "      <td>https://a0.muscache.com/pictures/f0813a11-40b2...</td>\n",
              "      <td>2845</td>\n",
              "      <td>...</td>\n",
              "      <td>4.80</td>\n",
              "      <td>4.81</td>\n",
              "      <td>4.40</td>\n",
              "      <td>NaN</td>\n",
              "      <td>f</td>\n",
              "      <td>3</td>\n",
              "      <td>3</td>\n",
              "      <td>0</td>\n",
              "      <td>0</td>\n",
              "      <td>0.31</td>\n",
              "    </tr>\n",
              "    <tr>\n",
              "      <th>1</th>\n",
              "      <td>5203</td>\n",
              "      <td>https://www.airbnb.com/rooms/5203</td>\n",
              "      <td>20221204162430</td>\n",
              "      <td>2022-12-05</td>\n",
              "      <td>previous scrape</td>\n",
              "      <td>Cozy Clean Guest Room - Family Apt</td>\n",
              "      <td>Our best guests are seeking a safe, clean, spa...</td>\n",
              "      <td>Our neighborhood is full of restaurants and ca...</td>\n",
              "      <td>https://a0.muscache.com/pictures/103776/b37157...</td>\n",
              "      <td>7490</td>\n",
              "      <td>...</td>\n",
              "      <td>4.95</td>\n",
              "      <td>4.94</td>\n",
              "      <td>4.92</td>\n",
              "      <td>NaN</td>\n",
              "      <td>f</td>\n",
              "      <td>1</td>\n",
              "      <td>0</td>\n",
              "      <td>1</td>\n",
              "      <td>0</td>\n",
              "      <td>0.73</td>\n",
              "    </tr>\n",
              "    <tr>\n",
              "      <th>2</th>\n",
              "      <td>5136</td>\n",
              "      <td>https://www.airbnb.com/rooms/5136</td>\n",
              "      <td>20221204162430</td>\n",
              "      <td>2022-12-04</td>\n",
              "      <td>city scrape</td>\n",
              "      <td>Spacious Brooklyn Duplex, Patio + Garden</td>\n",
              "      <td>We welcome you to stay in our lovely 2 br dupl...</td>\n",
              "      <td>NaN</td>\n",
              "      <td>https://a0.muscache.com/pictures/miso/Hosting-...</td>\n",
              "      <td>7378</td>\n",
              "      <td>...</td>\n",
              "      <td>5.00</td>\n",
              "      <td>4.67</td>\n",
              "      <td>5.00</td>\n",
              "      <td>NaN</td>\n",
              "      <td>f</td>\n",
              "      <td>1</td>\n",
              "      <td>1</td>\n",
              "      <td>0</td>\n",
              "      <td>0</td>\n",
              "      <td>0.03</td>\n",
              "    </tr>\n",
              "    <tr>\n",
              "      <th>3</th>\n",
              "      <td>5121</td>\n",
              "      <td>https://www.airbnb.com/rooms/5121</td>\n",
              "      <td>20221204162430</td>\n",
              "      <td>2022-12-05</td>\n",
              "      <td>city scrape</td>\n",
              "      <td>BlissArtsSpace!</td>\n",
              "      <td>One room available for rent in a 2 bedroom apt...</td>\n",
              "      <td>NaN</td>\n",
              "      <td>https://a0.muscache.com/pictures/2090980c-b68e...</td>\n",
              "      <td>7356</td>\n",
              "      <td>...</td>\n",
              "      <td>4.91</td>\n",
              "      <td>4.47</td>\n",
              "      <td>4.52</td>\n",
              "      <td>NaN</td>\n",
              "      <td>f</td>\n",
              "      <td>2</td>\n",
              "      <td>0</td>\n",
              "      <td>2</td>\n",
              "      <td>0</td>\n",
              "      <td>0.30</td>\n",
              "    </tr>\n",
              "    <tr>\n",
              "      <th>4</th>\n",
              "      <td>6848</td>\n",
              "      <td>https://www.airbnb.com/rooms/6848</td>\n",
              "      <td>20221204162430</td>\n",
              "      <td>2022-12-05</td>\n",
              "      <td>city scrape</td>\n",
              "      <td>Only 2 stops to Manhattan studio</td>\n",
              "      <td>Comfortable studio apartment with super comfor...</td>\n",
              "      <td>NaN</td>\n",
              "      <td>https://a0.muscache.com/pictures/e4f031a7-f146...</td>\n",
              "      <td>15991</td>\n",
              "      <td>...</td>\n",
              "      <td>4.80</td>\n",
              "      <td>4.67</td>\n",
              "      <td>4.56</td>\n",
              "      <td>NaN</td>\n",
              "      <td>f</td>\n",
              "      <td>1</td>\n",
              "      <td>1</td>\n",
              "      <td>0</td>\n",
              "      <td>0</td>\n",
              "      <td>1.13</td>\n",
              "    </tr>\n",
              "  </tbody>\n",
              "</table>\n",
              "<p>5 rows × 75 columns</p>\n",
              "</div>\n",
              "      <button class=\"colab-df-convert\" onclick=\"convertToInteractive('df-980a6c75-8212-498e-b568-3220c6d2a988')\"\n",
              "              title=\"Convert this dataframe to an interactive table.\"\n",
              "              style=\"display:none;\">\n",
              "        \n",
              "  <svg xmlns=\"http://www.w3.org/2000/svg\" height=\"24px\"viewBox=\"0 0 24 24\"\n",
              "       width=\"24px\">\n",
              "    <path d=\"M0 0h24v24H0V0z\" fill=\"none\"/>\n",
              "    <path d=\"M18.56 5.44l.94 2.06.94-2.06 2.06-.94-2.06-.94-.94-2.06-.94 2.06-2.06.94zm-11 1L8.5 8.5l.94-2.06 2.06-.94-2.06-.94L8.5 2.5l-.94 2.06-2.06.94zm10 10l.94 2.06.94-2.06 2.06-.94-2.06-.94-.94-2.06-.94 2.06-2.06.94z\"/><path d=\"M17.41 7.96l-1.37-1.37c-.4-.4-.92-.59-1.43-.59-.52 0-1.04.2-1.43.59L10.3 9.45l-7.72 7.72c-.78.78-.78 2.05 0 2.83L4 21.41c.39.39.9.59 1.41.59.51 0 1.02-.2 1.41-.59l7.78-7.78 2.81-2.81c.8-.78.8-2.07 0-2.86zM5.41 20L4 18.59l7.72-7.72 1.47 1.35L5.41 20z\"/>\n",
              "  </svg>\n",
              "      </button>\n",
              "      \n",
              "  <style>\n",
              "    .colab-df-container {\n",
              "      display:flex;\n",
              "      flex-wrap:wrap;\n",
              "      gap: 12px;\n",
              "    }\n",
              "\n",
              "    .colab-df-convert {\n",
              "      background-color: #E8F0FE;\n",
              "      border: none;\n",
              "      border-radius: 50%;\n",
              "      cursor: pointer;\n",
              "      display: none;\n",
              "      fill: #1967D2;\n",
              "      height: 32px;\n",
              "      padding: 0 0 0 0;\n",
              "      width: 32px;\n",
              "    }\n",
              "\n",
              "    .colab-df-convert:hover {\n",
              "      background-color: #E2EBFA;\n",
              "      box-shadow: 0px 1px 2px rgba(60, 64, 67, 0.3), 0px 1px 3px 1px rgba(60, 64, 67, 0.15);\n",
              "      fill: #174EA6;\n",
              "    }\n",
              "\n",
              "    [theme=dark] .colab-df-convert {\n",
              "      background-color: #3B4455;\n",
              "      fill: #D2E3FC;\n",
              "    }\n",
              "\n",
              "    [theme=dark] .colab-df-convert:hover {\n",
              "      background-color: #434B5C;\n",
              "      box-shadow: 0px 1px 3px 1px rgba(0, 0, 0, 0.15);\n",
              "      filter: drop-shadow(0px 1px 2px rgba(0, 0, 0, 0.3));\n",
              "      fill: #FFFFFF;\n",
              "    }\n",
              "  </style>\n",
              "\n",
              "      <script>\n",
              "        const buttonEl =\n",
              "          document.querySelector('#df-980a6c75-8212-498e-b568-3220c6d2a988 button.colab-df-convert');\n",
              "        buttonEl.style.display =\n",
              "          google.colab.kernel.accessAllowed ? 'block' : 'none';\n",
              "\n",
              "        async function convertToInteractive(key) {\n",
              "          const element = document.querySelector('#df-980a6c75-8212-498e-b568-3220c6d2a988');\n",
              "          const dataTable =\n",
              "            await google.colab.kernel.invokeFunction('convertToInteractive',\n",
              "                                                     [key], {});\n",
              "          if (!dataTable) return;\n",
              "\n",
              "          const docLinkHtml = 'Like what you see? Visit the ' +\n",
              "            '<a target=\"_blank\" href=https://colab.research.google.com/notebooks/data_table.ipynb>data table notebook</a>'\n",
              "            + ' to learn more about interactive tables.';\n",
              "          element.innerHTML = '';\n",
              "          dataTable['output_type'] = 'display_data';\n",
              "          await google.colab.output.renderOutput(dataTable, element);\n",
              "          const docLink = document.createElement('div');\n",
              "          docLink.innerHTML = docLinkHtml;\n",
              "          element.appendChild(docLink);\n",
              "        }\n",
              "      </script>\n",
              "    </div>\n",
              "  </div>\n",
              "  "
            ]
          },
          "metadata": {},
          "execution_count": 78
        }
      ]
    },
    {
      "cell_type": "code",
      "source": [
        "# Check the length of list and the number of features\n",
        "listing_df.shape"
      ],
      "metadata": {
        "colab": {
          "base_uri": "https://localhost:8080/"
        },
        "id": "r8Typz_Mrr8V",
        "outputId": "a80f1d4d-4d1f-4938-ee22-481470b563f1"
      },
      "execution_count": 79,
      "outputs": [
        {
          "output_type": "execute_result",
          "data": {
            "text/plain": [
              "(41533, 75)"
            ]
          },
          "metadata": {},
          "execution_count": 79
        }
      ]
    },
    {
      "cell_type": "code",
      "source": [
        "# Check the features\n",
        "listing_df.info()"
      ],
      "metadata": {
        "colab": {
          "base_uri": "https://localhost:8080/"
        },
        "id": "ZystpzsCrsxH",
        "outputId": "2296bb68-df3a-4d49-df64-438627eb1884"
      },
      "execution_count": 80,
      "outputs": [
        {
          "output_type": "stream",
          "name": "stdout",
          "text": [
            "<class 'pandas.core.frame.DataFrame'>\n",
            "RangeIndex: 41533 entries, 0 to 41532\n",
            "Data columns (total 75 columns):\n",
            " #   Column                                        Non-Null Count  Dtype  \n",
            "---  ------                                        --------------  -----  \n",
            " 0   id                                            41533 non-null  int64  \n",
            " 1   listing_url                                   41533 non-null  object \n",
            " 2   scrape_id                                     41533 non-null  int64  \n",
            " 3   last_scraped                                  41533 non-null  object \n",
            " 4   source                                        41533 non-null  object \n",
            " 5   name                                          41520 non-null  object \n",
            " 6   description                                   40747 non-null  object \n",
            " 7   neighborhood_overview                         24089 non-null  object \n",
            " 8   picture_url                                   41533 non-null  object \n",
            " 9   host_id                                       41533 non-null  int64  \n",
            " 10  host_url                                      41533 non-null  object \n",
            " 11  host_name                                     41528 non-null  object \n",
            " 12  host_since                                    41528 non-null  object \n",
            " 13  host_location                                 33788 non-null  object \n",
            " 14  host_about                                    23221 non-null  object \n",
            " 15  host_response_time                            27888 non-null  object \n",
            " 16  host_response_rate                            27888 non-null  object \n",
            " 17  host_acceptance_rate                          29322 non-null  object \n",
            " 18  host_is_superhost                             41504 non-null  object \n",
            " 19  host_thumbnail_url                            41528 non-null  object \n",
            " 20  host_picture_url                              41528 non-null  object \n",
            " 21  host_neighbourhood                            33344 non-null  object \n",
            " 22  host_listings_count                           41528 non-null  float64\n",
            " 23  host_total_listings_count                     41528 non-null  float64\n",
            " 24  host_verifications                            41533 non-null  object \n",
            " 25  host_has_profile_pic                          41528 non-null  object \n",
            " 26  host_identity_verified                        41528 non-null  object \n",
            " 27  neighbourhood                                 24090 non-null  object \n",
            " 28  neighbourhood_cleansed                        41533 non-null  object \n",
            " 29  neighbourhood_group_cleansed                  41533 non-null  object \n",
            " 30  latitude                                      41533 non-null  float64\n",
            " 31  longitude                                     41533 non-null  float64\n",
            " 32  property_type                                 41533 non-null  object \n",
            " 33  room_type                                     41533 non-null  object \n",
            " 34  accommodates                                  41533 non-null  int64  \n",
            " 35  bathrooms                                     0 non-null      float64\n",
            " 36  bathrooms_text                                41456 non-null  object \n",
            " 37  bedrooms                                      37711 non-null  float64\n",
            " 38  beds                                          40592 non-null  float64\n",
            " 39  amenities                                     41533 non-null  object \n",
            " 40  price                                         41533 non-null  object \n",
            " 41  minimum_nights                                41533 non-null  int64  \n",
            " 42  maximum_nights                                41533 non-null  int64  \n",
            " 43  minimum_minimum_nights                        41519 non-null  float64\n",
            " 44  maximum_minimum_nights                        41519 non-null  float64\n",
            " 45  minimum_maximum_nights                        41519 non-null  float64\n",
            " 46  maximum_maximum_nights                        41519 non-null  float64\n",
            " 47  minimum_nights_avg_ntm                        41519 non-null  float64\n",
            " 48  maximum_nights_avg_ntm                        41519 non-null  float64\n",
            " 49  calendar_updated                              0 non-null      float64\n",
            " 50  has_availability                              41533 non-null  object \n",
            " 51  availability_30                               41533 non-null  int64  \n",
            " 52  availability_60                               41533 non-null  int64  \n",
            " 53  availability_90                               41533 non-null  int64  \n",
            " 54  availability_365                              41533 non-null  int64  \n",
            " 55  calendar_last_scraped                         41533 non-null  object \n",
            " 56  number_of_reviews                             41533 non-null  int64  \n",
            " 57  number_of_reviews_ltm                         41533 non-null  int64  \n",
            " 58  number_of_reviews_l30d                        41533 non-null  int64  \n",
            " 59  first_review                                  32140 non-null  object \n",
            " 60  last_review                                   32140 non-null  object \n",
            " 61  review_scores_rating                          32140 non-null  float64\n",
            " 62  review_scores_accuracy                        31692 non-null  float64\n",
            " 63  review_scores_cleanliness                     31702 non-null  float64\n",
            " 64  review_scores_checkin                         31688 non-null  float64\n",
            " 65  review_scores_communication                   31697 non-null  float64\n",
            " 66  review_scores_location                        31685 non-null  float64\n",
            " 67  review_scores_value                           31685 non-null  float64\n",
            " 68  license                                       1 non-null      object \n",
            " 69  instant_bookable                              41533 non-null  object \n",
            " 70  calculated_host_listings_count                41533 non-null  int64  \n",
            " 71  calculated_host_listings_count_entire_homes   41533 non-null  int64  \n",
            " 72  calculated_host_listings_count_private_rooms  41533 non-null  int64  \n",
            " 73  calculated_host_listings_count_shared_rooms   41533 non-null  int64  \n",
            " 74  reviews_per_month                             32140 non-null  float64\n",
            "dtypes: float64(22), int64(17), object(36)\n",
            "memory usage: 23.8+ MB\n"
          ]
        }
      ]
    },
    {
      "cell_type": "code",
      "source": [
        "# After looking into the features of the data, I have splitted these to different\n",
        "# groups for data analysis\n",
        "\n",
        "# ID info\n",
        "id_cols = ['id', 'listing_url', 'scrape_id', 'last_scraped', 'source']\n",
        "\n",
        "# Description\n",
        "des_cols = ['name', 'description', 'neighborhood_overview', 'picture_url']\n",
        "\n",
        "# Host Info\n",
        "host_cols = ['host_id', 'host_url', 'host_name', 'host_since',\n",
        "            'host_location', 'host_about', 'host_response_time',\n",
        "            'host_response_rate', 'host_acceptance_rate', 'host_is_superhost',\n",
        "            'host_thumbnail_url', 'host_picture_url', 'host_neighbourhood',\n",
        "            'host_listings_count', 'host_total_listings_count',\n",
        "            'host_verifications', 'host_has_profile_pic', \n",
        "            'host_identity_verified', 'calculated_host_listings_count',\n",
        "            'calculated_host_listings_count_private_rooms',\n",
        "            'calculated_host_listings_count_shared_rooms']\n",
        "\n",
        "# Location Info\n",
        "loc_cols = ['neighbourhood', 'neighbourhood_cleansed',\n",
        "           'neighbourhood_group_cleansed', 'latitude', 'longitude']\n",
        "\n",
        "# Apartment Info\n",
        "apt_cols = ['property_type', 'room_type', 'accommodates',\n",
        "           'bathrooms', 'bathrooms_text', 'bedrooms', 'beds', 'amenities']\n",
        "\n",
        "# Length of stay Info\n",
        "night_cols = ['minimum_nights', 'maximum_nights', 'minimum_minimum_nights',\n",
        "              'maximum_minimum_nights', 'minimum_maximum_nights',\n",
        "              'maximum_maximum_nights', 'minimum_nights_avg_ntm',\n",
        "              'maximum_nights_avg_ntm']\n",
        "\n",
        "# Price Info\n",
        "price_cols = ['price']\n",
        "\n",
        "# Availability Info\n",
        "aval_cols = ['calendar_updated', 'has_availability',\n",
        "             'availability_30', 'availability_60', 'availability_90',\n",
        "             'availability_365', 'calendar_last_scraped']\n",
        "\n",
        "# Reviews\n",
        "rev_cols = ['number_of_reviews',\n",
        "            'number_of_reviews_ltm', 'number_of_reviews_l30d', 'first_review',\n",
        "            'last_review', 'review_scores_rating', 'review_scores_accuracy',\n",
        "            'review_scores_cleanliness', 'review_scores_checkin',\n",
        "            'review_scores_communication', 'review_scores_location',\n",
        "            'review_scores_value', 'reviews_per_month']\n",
        "\n",
        "# Booking Info\n",
        "book_cols = ['license', 'instant_bookable']\n",
        "\n",
        "# Useful columns\n",
        "possible_cols = ['name', 'description', 'host_id', 'host_name', 'host_is_superhost', \n",
        "                 'neighbourhood_cleansed', 'neighbourhood_group_cleansed', \n",
        "                 'latitude', 'longitude', 'room_type', 'accommodates', \n",
        "                 'bathrooms_text', 'bedrooms', 'beds', 'amenities', 'price',\n",
        "                 'minimum_nights', 'maximum_nights', 'availability_365', \n",
        "                 'number_of_reviews', 'reviews_per_month', 'review_scores_rating', \n",
        "                 'review_scores_accuracy', 'review_scores_cleanliness', \n",
        "                 'review_scores_checkin', 'review_scores_communication', \n",
        "                 'review_scores_location', 'review_scores_value', \n",
        "                 'calculated_host_listings_count']"
      ],
      "metadata": {
        "id": "6IHXAXeBrvwR"
      },
      "execution_count": 81,
      "outputs": []
    },
    {
      "cell_type": "markdown",
      "source": [
        "# 3. Data Cleaning"
      ],
      "metadata": {
        "id": "tZrfASImTCNE"
      }
    },
    {
      "cell_type": "markdown",
      "source": [
        "## 3.1. Checking the NaN values"
      ],
      "metadata": {
        "id": "OpbpjAz3t8K0"
      }
    },
    {
      "cell_type": "code",
      "source": [
        "# Calculate the percentage of the missing values in each column, then put it\n",
        "# into a data frame\n",
        "listing_df_na = (listing_df.isnull().mean()) * 100\n",
        "listing_df_na = listing_df_na.drop(listing_df_na[listing_df_na == 0].index)\n",
        "listing_df_na = listing_df_na.sort_values(ascending=False)[0:20]\n",
        "\n",
        "# Setting figure size\n",
        "f, ax = plt.subplots(figsize=(15, 10))\n",
        "sns.barplot(x=listing_df_na, y=listing_df_na.index)\n",
        "\n",
        "# Custom the chart\n",
        "sns.set(style='ticks', context='talk')\n",
        "plt.xlabel('Percent of missing values', fontsize=15)\n",
        "plt.ylabel('Features', fontsize=15)\n",
        "plt.title('The percentage of missing values by columns', fontsize=15)"
      ],
      "metadata": {
        "colab": {
          "base_uri": "https://localhost:8080/",
          "height": 660
        },
        "id": "R_DSFRxrt7l4",
        "outputId": "18fac6ef-3b97-4b06-bce7-a4faca74fea1"
      },
      "execution_count": 82,
      "outputs": [
        {
          "output_type": "execute_result",
          "data": {
            "text/plain": [
              "Text(0.5, 1.0, 'The percentage of missing values by columns')"
            ]
          },
          "metadata": {},
          "execution_count": 82
        },
        {
          "output_type": "display_data",
          "data": {
            "text/plain": [
              "<Figure size 1080x720 with 1 Axes>"
            ],
            "image/png": "[encoded data removed]"
          },
          "metadata": {}
        }
      ]
    },
    {
      "cell_type": "markdown",
      "source": [
        "## 3.2. Drop unwanted columns"
      ],
      "metadata": {
        "id": "Ibcp9Xx9yeHC"
      }
    },
    {
      "cell_type": "code",
      "source": [
        "def general_clean(df, missing_rate=0.75, useful_vals=list()):\n",
        "    '''\n",
        "    INPUT:\n",
        "    df - a dataframe holding all the variables of interest\n",
        "    missing_rate - the acceptable missing value percentage\n",
        "    useful_vals - the useful columns for our data analysis\n",
        "    \n",
        "    OUTPUT:\n",
        "    new_df - a cleaner data set\n",
        "    '''\n",
        "    # Extract the useful columns\n",
        "    df = df[useful_vals]\n",
        "\n",
        "    # Drop columns with all NaN values\n",
        "    df = df.dropna(how='all', axis=1)\n",
        "\n",
        "    # Drop the features with the missing value rate above 75%\n",
        "    df_na = df.isnull().mean()\n",
        "    df = df.drop(df_na[df_na > missing_rate].index, axis=1)\n",
        "\n",
        "    # Drop columns with a single value\n",
        "    for col in df.columns:\n",
        "      if len(df[col].unique()) == 1:\n",
        "        df = df.drop(col,axis=1)\n",
        "\n",
        "    return df"
      ],
      "metadata": {
        "id": "cyIPYihwyTZ3"
      },
      "execution_count": 83,
      "outputs": []
    },
    {
      "cell_type": "code",
      "source": [
        "listing_df = general_clean(df=listing_df, useful_vals=possible_cols)"
      ],
      "metadata": {
        "id": "7mzNQjUSypsj"
      },
      "execution_count": 84,
      "outputs": []
    },
    {
      "cell_type": "markdown",
      "source": [
        "## 3.3. Some Transformations"
      ],
      "metadata": {
        "id": "LO0iQ76eyuiB"
      }
    },
    {
      "cell_type": "code",
      "source": [
        "def clean_price(x):\n",
        "    '''\n",
        "    INPUT:\n",
        "    x - a string holding the price value\n",
        "    \n",
        "    OUTPUT:\n",
        "    x_clean - x is cleaned by removing '$', ',', and is saved as float\n",
        "    '''\n",
        "    try:\n",
        "        x_clean =float(x.replace('$', '').replace(',', ''))\n",
        "        return x_clean\n",
        "    except:\n",
        "        return x"
      ],
      "metadata": {
        "id": "fNfkfIfXy14W"
      },
      "execution_count": 85,
      "outputs": []
    },
    {
      "cell_type": "code",
      "source": [
        "listing_df['price'] = listing_df['price'].apply(lambda x: clean_price(x))"
      ],
      "metadata": {
        "id": "Wx5xzhHty4yG"
      },
      "execution_count": 86,
      "outputs": []
    },
    {
      "cell_type": "code",
      "source": [
        "# Convert all values in description to string\n",
        "listing_df['description'] = listing_df['description'].astype('str')"
      ],
      "metadata": {
        "id": "4ddxcVJRy5U6"
      },
      "execution_count": 87,
      "outputs": []
    },
    {
      "cell_type": "markdown",
      "source": [
        "# 4. Data Visualization"
      ],
      "metadata": {
        "id": "Lgk8RYXETFJN"
      }
    },
    {
      "cell_type": "markdown",
      "source": [
        "## 4.1. Hosts with the most listings in NYC"
      ],
      "metadata": {
        "id": "pmh8ppn2vBCp"
      }
    },
    {
      "cell_type": "code",
      "source": [
        "# Extract the top 10 host info, then save into a dataframe named 'top_host_vals'\n",
        "top_host_vals = listing_df['host_id'].value_counts().head(10).reset_index(name=\"count\")\n",
        "top_host_vals['index'] = top_host_vals['index'].astype('str')\n",
        "top_host_vals"
      ],
      "metadata": {
        "colab": {
          "base_uri": "https://localhost:8080/",
          "height": 363
        },
        "id": "Ek2Pxc14yqSL",
        "outputId": "818a56dc-4b60-4549-b3ed-c4fde5152c85"
      },
      "execution_count": 114,
      "outputs": [
        {
          "output_type": "execute_result",
          "data": {
            "text/plain": [
              "       index  count\n",
              "0  107434423    487\n",
              "1    3223938    345\n",
              "2  305240193    214\n",
              "3  158969505    200\n",
              "4   19303369    196\n",
              "5  200239515    175\n",
              "6   22541573    172\n",
              "7  204704622    166\n",
              "8   51501835    130\n",
              "9  174792040    130"
            ],
            "text/html": [
              "\n",
              "  <div id=\"df-ee4ee0c7-3b2b-463a-8f2b-046c67dca370\">\n",
              "    <div class=\"colab-df-container\">\n",
              "      <div>\n",
              "<style scoped>\n",
              "    .dataframe tbody tr th:only-of-type {\n",
              "        vertical-align: middle;\n",
              "    }\n",
              "\n",
              "    .dataframe tbody tr th {\n",
              "        vertical-align: top;\n",
              "    }\n",
              "\n",
              "    .dataframe thead th {\n",
              "        text-align: right;\n",
              "    }\n",
              "</style>\n",
              "<table border=\"1\" class=\"dataframe\">\n",
              "  <thead>\n",
              "    <tr style=\"text-align: right;\">\n",
              "      <th></th>\n",
              "      <th>index</th>\n",
              "      <th>count</th>\n",
              "    </tr>\n",
              "  </thead>\n",
              "  <tbody>\n",
              "    <tr>\n",
              "      <th>0</th>\n",
              "      <td>107434423</td>\n",
              "      <td>487</td>\n",
              "    </tr>\n",
              "    <tr>\n",
              "      <th>1</th>\n",
              "      <td>3223938</td>\n",
              "      <td>345</td>\n",
              "    </tr>\n",
              "    <tr>\n",
              "      <th>2</th>\n",
              "      <td>305240193</td>\n",
              "      <td>214</td>\n",
              "    </tr>\n",
              "    <tr>\n",
              "      <th>3</th>\n",
              "      <td>158969505</td>\n",
              "      <td>200</td>\n",
              "    </tr>\n",
              "    <tr>\n",
              "      <th>4</th>\n",
              "      <td>19303369</td>\n",
              "      <td>196</td>\n",
              "    </tr>\n",
              "    <tr>\n",
              "      <th>5</th>\n",
              "      <td>200239515</td>\n",
              "      <td>175</td>\n",
              "    </tr>\n",
              "    <tr>\n",
              "      <th>6</th>\n",
              "      <td>22541573</td>\n",
              "      <td>172</td>\n",
              "    </tr>\n",
              "    <tr>\n",
              "      <th>7</th>\n",
              "      <td>204704622</td>\n",
              "      <td>166</td>\n",
              "    </tr>\n",
              "    <tr>\n",
              "      <th>8</th>\n",
              "      <td>51501835</td>\n",
              "      <td>130</td>\n",
              "    </tr>\n",
              "    <tr>\n",
              "      <th>9</th>\n",
              "      <td>174792040</td>\n",
              "      <td>130</td>\n",
              "    </tr>\n",
              "  </tbody>\n",
              "</table>\n",
              "</div>\n",
              "      <button class=\"colab-df-convert\" onclick=\"convertToInteractive('df-ee4ee0c7-3b2b-463a-8f2b-046c67dca370')\"\n",
              "              title=\"Convert this dataframe to an interactive table.\"\n",
              "              style=\"display:none;\">\n",
              "        \n",
              "  <svg xmlns=\"http://www.w3.org/2000/svg\" height=\"24px\"viewBox=\"0 0 24 24\"\n",
              "       width=\"24px\">\n",
              "    <path d=\"M0 0h24v24H0V0z\" fill=\"none\"/>\n",
              "    <path d=\"M18.56 5.44l.94 2.06.94-2.06 2.06-.94-2.06-.94-.94-2.06-.94 2.06-2.06.94zm-11 1L8.5 8.5l.94-2.06 2.06-.94-2.06-.94L8.5 2.5l-.94 2.06-2.06.94zm10 10l.94 2.06.94-2.06 2.06-.94-2.06-.94-.94-2.06-.94 2.06-2.06.94z\"/><path d=\"M17.41 7.96l-1.37-1.37c-.4-.4-.92-.59-1.43-.59-.52 0-1.04.2-1.43.59L10.3 9.45l-7.72 7.72c-.78.78-.78 2.05 0 2.83L4 21.41c.39.39.9.59 1.41.59.51 0 1.02-.2 1.41-.59l7.78-7.78 2.81-2.81c.8-.78.8-2.07 0-2.86zM5.41 20L4 18.59l7.72-7.72 1.47 1.35L5.41 20z\"/>\n",
              "  </svg>\n",
              "      </button>\n",
              "      \n",
              "  <style>\n",
              "    .colab-df-container {\n",
              "      display:flex;\n",
              "      flex-wrap:wrap;\n",
              "      gap: 12px;\n",
              "    }\n",
              "\n",
              "    .colab-df-convert {\n",
              "      background-color: #E8F0FE;\n",
              "      border: none;\n",
              "      border-radius: 50%;\n",
              "      cursor: pointer;\n",
              "      display: none;\n",
              "      fill: #1967D2;\n",
              "      height: 32px;\n",
              "      padding: 0 0 0 0;\n",
              "      width: 32px;\n",
              "    }\n",
              "\n",
              "    .colab-df-convert:hover {\n",
              "      background-color: #E2EBFA;\n",
              "      box-shadow: 0px 1px 2px rgba(60, 64, 67, 0.3), 0px 1px 3px 1px rgba(60, 64, 67, 0.15);\n",
              "      fill: #174EA6;\n",
              "    }\n",
              "\n",
              "    [theme=dark] .colab-df-convert {\n",
              "      background-color: #3B4455;\n",
              "      fill: #D2E3FC;\n",
              "    }\n",
              "\n",
              "    [theme=dark] .colab-df-convert:hover {\n",
              "      background-color: #434B5C;\n",
              "      box-shadow: 0px 1px 3px 1px rgba(0, 0, 0, 0.15);\n",
              "      filter: drop-shadow(0px 1px 2px rgba(0, 0, 0, 0.3));\n",
              "      fill: #FFFFFF;\n",
              "    }\n",
              "  </style>\n",
              "\n",
              "      <script>\n",
              "        const buttonEl =\n",
              "          document.querySelector('#df-ee4ee0c7-3b2b-463a-8f2b-046c67dca370 button.colab-df-convert');\n",
              "        buttonEl.style.display =\n",
              "          google.colab.kernel.accessAllowed ? 'block' : 'none';\n",
              "\n",
              "        async function convertToInteractive(key) {\n",
              "          const element = document.querySelector('#df-ee4ee0c7-3b2b-463a-8f2b-046c67dca370');\n",
              "          const dataTable =\n",
              "            await google.colab.kernel.invokeFunction('convertToInteractive',\n",
              "                                                     [key], {});\n",
              "          if (!dataTable) return;\n",
              "\n",
              "          const docLinkHtml = 'Like what you see? Visit the ' +\n",
              "            '<a target=\"_blank\" href=https://colab.research.google.com/notebooks/data_table.ipynb>data table notebook</a>'\n",
              "            + ' to learn more about interactive tables.';\n",
              "          element.innerHTML = '';\n",
              "          dataTable['output_type'] = 'display_data';\n",
              "          await google.colab.output.renderOutput(dataTable, element);\n",
              "          const docLink = document.createElement('div');\n",
              "          docLink.innerHTML = docLinkHtml;\n",
              "          element.appendChild(docLink);\n",
              "        }\n",
              "      </script>\n",
              "    </div>\n",
              "  </div>\n",
              "  "
            ]
          },
          "metadata": {},
          "execution_count": 114
        }
      ]
    },
    {
      "cell_type": "code",
      "source": [
        "# Setting figure\n",
        "plt.figure(figsize=(15, 10))\n",
        "sns.set(style='whitegrid', context='talk')\n",
        "\n",
        "# Custom the chart\n",
        "viz_1 = sns.barplot(x=\"count\", y=\"index\", data=top_host_vals, palette='viridis')\n",
        "viz_1.set_title('Top 10 hosts with the most listings in NYC')\n",
        "viz_1.set_ylabel('Host IDs')\n",
        "viz_1.set_xlabel('Count of listings');"
      ],
      "metadata": {
        "colab": {
          "base_uri": "https://localhost:8080/",
          "height": 647
        },
        "id": "ZrERrA-52dGb",
        "outputId": "a315dee0-9b42-4488-db40-b06f14e6de6b"
      },
      "execution_count": 119,
      "outputs": [
        {
          "output_type": "display_data",
          "data": {
            "text/plain": [
              "<Figure size 1080x720 with 1 Axes>"
            ],
            "image/png": "[encoded data removed]"
          },
          "metadata": {}
        }
      ]
    },
    {
      "cell_type": "markdown",
      "source": [
        "## 4.2. Top 10 most frequent neighborhoods in each borough"
      ],
      "metadata": {
        "id": "O7BYSmZW6TZC"
      }
    },
    {
      "cell_type": "code",
      "source": [
        "# Extract the infomation of top 10 most frequent neighborhoods in each borough in NYC\n",
        "data_2 = listing_df.groupby(['neighbourhood_group_cleansed'])['neighbourhood_cleansed'].value_counts().reset_index(name='frequency')\n",
        "data_2 = data_2.groupby(['neighbourhood_group_cleansed']).head(15)"
      ],
      "metadata": {
        "id": "OOoK9JjG_SmP"
      },
      "execution_count": 207,
      "outputs": []
    },
    {
      "cell_type": "code",
      "source": [
        "# Set up the sunburst chart\n",
        "viz_2 = px.sunburst(data_2,\n",
        "                    path=['neighbourhood_group_cleansed', 'neighbourhood_cleansed'],\n",
        "                    width=1000, height=900,\n",
        "                    values='frequency',\n",
        "                    color_continuous_scale=\"RdYlGn\",\n",
        "                    color='frequency',\n",
        "                    title='Top 10 most frequent neighborhoods in each borough')\n",
        "viz_2.show()"
      ],
      "metadata": {
        "id": "AM1wOP8c6cft",
        "outputId": "34976dfb-6ac6-4622-e295-283c3da2dd16",
        "colab": {
          "base_uri": "https://localhost:8080/",
          "height": 917
        }
      },
      "execution_count": 206,
      "outputs": [
        {
          "output_type": "display_data",
          "data": {
            "text/html": [
              "<html>\n",
              "<head><meta charset=\"utf-8\" /></head>\n",
              "<body>\n",
              "    <div>            <script src=\"https://cdnjs.cloudflare.com/ajax/libs/mathjax/2.7.5/MathJax.js?config=TeX-AMS-MML_SVG\"></script><script type=\"text/javascript\">if (window.MathJax) {MathJax.Hub.Config({SVG: {font: \"STIX-Web\"}});}</script>                <script type=\"text/javascript\">window.PlotlyConfig = {MathJaxConfig: 'local'};</script>\n",
              "        <script src=\"https://cdn.plot.ly/plotly-2.8.3.min.js\"></script>                <div id=\"c6ab2ad9-7a7d-4f8a-821f-d236123d9112\" class=\"plotly-graph-div\" style=\"height:900px; width:1000px;\"></div>            <script type=\"text/javascript\">                                    window.PLOTLYENV=window.PLOTLYENV || {};                                    if (document.getElementById(\"c6ab2ad9-7a7d-4f8a-821f-d236123d9112\")) {                    Plotly.newPlot(                        \"c6ab2ad9-7a7d-4f8a-821f-d236123d9112\",                        [{\"branchvalues\":\"total\",\"customdata\":[[47.0],[17.0],[727.0],[39.0],[2936.0],[1752.0],[256.0],[889.0],[44.0],[46.0],[11.0],[373.0],[9.0],[56.0],[44.0],[1299.0],[262.0],[8.0],[262.0],[585.0],[821.0],[373.0],[1171.0],[281.0],[570.0],[517.0],[536.0],[72.0],[133.0],[341.0],[14.0],[759.0],[1949.0],[1533.0],[232.0],[368.0],[85.0],[416.0],[501.0],[74.0],[847.0],[30.0],[10.0],[1918.0],[99.0],[427.0],[12.0],[333.0],[44.0],[42.0],[58.0],[12.0],[228.0],[444.0],[16.0],[139.0],[352.0],[14.0],[166.0],[133.0],[54.0],[22.0],[295.0],[294.0],[363.0],[39.0],[1428.0],[1514.0],[106.0],[634.0],[29.0],[516.0],[74.0],[2570.0],[364.0],[69.15698924731183],[1690.2003062787137],[1279.8127500666844],[399.4954746369185],[27.78787878787879]],\"domain\":{\"x\":[0.0,1.0],\"y\":[0.0,1.0]},\"hovertemplate\":\"labels=%{label}<br>frequency_sum=%{value}<br>parent=%{parent}<br>id=%{id}<br>frequency=%{color}<extra></extra>\",\"ids\":[\"Bronx/Allerton\",\"Staten Island/Arrochar\",\"Queens/Astoria\",\"Bronx/Baychester\",\"Brooklyn/Bedford-Stuyvesant\",\"Brooklyn/Bushwick\",\"Brooklyn/Canarsie\",\"Manhattan/Chelsea\",\"Bronx/Claremont Village\",\"Bronx/Clason Point\",\"Staten Island/Clifton\",\"Brooklyn/Clinton Hill\",\"Staten Island/Concord\",\"Bronx/Concourse\",\"Bronx/Concourse Village\",\"Brooklyn/Crown Heights\",\"Queens/Ditmars Steinway\",\"Staten Island/Dongan Hills\",\"Queens/East Elmhurst\",\"Brooklyn/East Flatbush\",\"Manhattan/East Harlem\",\"Brooklyn/East New York\",\"Manhattan/East Village\",\"Queens/Elmhurst\",\"Manhattan/Financial District\",\"Brooklyn/Flatbush\",\"Queens/Flushing\",\"Bronx/Fordham\",\"Queens/Forest Hills\",\"Brooklyn/Fort Greene\",\"Staten Island/Grant City\",\"Brooklyn/Greenpoint\",\"Manhattan/Harlem\",\"Manhattan/Hell's Kitchen\",\"Queens/Jackson Heights\",\"Queens/Jamaica\",\"Bronx/Kingsbridge\",\"Manhattan/Kips Bay\",\"Queens/Long Island City\",\"Bronx/Longwood\",\"Manhattan/Lower East Side\",\"Staten Island/Mariners Harbor\",\"Staten Island/Midland Beach\",\"Manhattan/Midtown\",\"Bronx/Mott Haven\",\"Manhattan/Murray Hill\",\"Staten Island/New Brighton\",\"Brooklyn/Park Slope\",\"Bronx/Parkchester\",\"Bronx/Pelham Gardens\",\"Bronx/Port Morris\",\"Staten Island/Port Richmond\",\"Brooklyn/Prospect Heights\",\"Brooklyn/Prospect-Lefferts Gardens\",\"Staten Island/Randall Manor\",\"Queens/Richmond Hill\",\"Queens/Ridgewood\",\"Staten Island/Shore Acres\",\"Queens/Springfield Gardens\",\"Queens/St. Albans\",\"Staten Island/St. George\",\"Staten Island/Stapleton\",\"Queens/Sunnyside\",\"Brooklyn/Sunset Park\",\"Manhattan/Theater District\",\"Staten Island/Tompkinsville\",\"Manhattan/Upper East Side\",\"Manhattan/Upper West Side\",\"Bronx/Wakefield\",\"Manhattan/Washington Heights\",\"Staten Island/West Brighton\",\"Manhattan/West Village\",\"Bronx/Williamsbridge\",\"Brooklyn/Williamsburg\",\"Queens/Woodside\",\"Bronx\",\"Brooklyn\",\"Manhattan\",\"Queens\",\"Staten Island\"],\"labels\":[\"Allerton\",\"Arrochar\",\"Astoria\",\"Baychester\",\"Bedford-Stuyvesant\",\"Bushwick\",\"Canarsie\",\"Chelsea\",\"Claremont Village\",\"Clason Point\",\"Clifton\",\"Clinton Hill\",\"Concord\",\"Concourse\",\"Concourse Village\",\"Crown Heights\",\"Ditmars Steinway\",\"Dongan Hills\",\"East Elmhurst\",\"East Flatbush\",\"East Harlem\",\"East New York\",\"East Village\",\"Elmhurst\",\"Financial District\",\"Flatbush\",\"Flushing\",\"Fordham\",\"Forest Hills\",\"Fort Greene\",\"Grant City\",\"Greenpoint\",\"Harlem\",\"Hell's Kitchen\",\"Jackson Heights\",\"Jamaica\",\"Kingsbridge\",\"Kips Bay\",\"Long Island City\",\"Longwood\",\"Lower East Side\",\"Mariners Harbor\",\"Midland Beach\",\"Midtown\",\"Mott Haven\",\"Murray Hill\",\"New Brighton\",\"Park Slope\",\"Parkchester\",\"Pelham Gardens\",\"Port Morris\",\"Port Richmond\",\"Prospect Heights\",\"Prospect-Lefferts Gardens\",\"Randall Manor\",\"Richmond Hill\",\"Ridgewood\",\"Shore Acres\",\"Springfield Gardens\",\"St. Albans\",\"St. George\",\"Stapleton\",\"Sunnyside\",\"Sunset Park\",\"Theater District\",\"Tompkinsville\",\"Upper East Side\",\"Upper West Side\",\"Wakefield\",\"Washington Heights\",\"West Brighton\",\"West Village\",\"Williamsbridge\",\"Williamsburg\",\"Woodside\",\"Bronx\",\"Brooklyn\",\"Manhattan\",\"Queens\",\"Staten Island\"],\"marker\":{\"coloraxis\":\"coloraxis\",\"colors\":[47.0,17.0,727.0,39.0,2936.0,1752.0,256.0,889.0,44.0,46.0,11.0,373.0,9.0,56.0,44.0,1299.0,262.0,8.0,262.0,585.0,821.0,373.0,1171.0,281.0,570.0,517.0,536.0,72.0,133.0,341.0,14.0,759.0,1949.0,1533.0,232.0,368.0,85.0,416.0,501.0,74.0,847.0,30.0,10.0,1918.0,99.0,427.0,12.0,333.0,44.0,42.0,58.0,12.0,228.0,444.0,16.0,139.0,352.0,14.0,166.0,133.0,54.0,22.0,295.0,294.0,363.0,39.0,1428.0,1514.0,106.0,634.0,29.0,516.0,74.0,2570.0,364.0,69.15698924731183,1690.2003062787137,1279.8127500666844,399.4954746369185,27.78787878787879]},\"name\":\"\",\"parents\":[\"Bronx\",\"Staten Island\",\"Queens\",\"Bronx\",\"Brooklyn\",\"Brooklyn\",\"Brooklyn\",\"Manhattan\",\"Bronx\",\"Bronx\",\"Staten Island\",\"Brooklyn\",\"Staten Island\",\"Bronx\",\"Bronx\",\"Brooklyn\",\"Queens\",\"Staten Island\",\"Queens\",\"Brooklyn\",\"Manhattan\",\"Brooklyn\",\"Manhattan\",\"Queens\",\"Manhattan\",\"Brooklyn\",\"Queens\",\"Bronx\",\"Queens\",\"Brooklyn\",\"Staten Island\",\"Brooklyn\",\"Manhattan\",\"Manhattan\",\"Queens\",\"Queens\",\"Bronx\",\"Manhattan\",\"Queens\",\"Bronx\",\"Manhattan\",\"Staten Island\",\"Staten Island\",\"Manhattan\",\"Bronx\",\"Manhattan\",\"Staten Island\",\"Brooklyn\",\"Bronx\",\"Bronx\",\"Bronx\",\"Staten Island\",\"Brooklyn\",\"Brooklyn\",\"Staten Island\",\"Queens\",\"Queens\",\"Staten Island\",\"Queens\",\"Queens\",\"Staten Island\",\"Staten Island\",\"Queens\",\"Brooklyn\",\"Manhattan\",\"Staten Island\",\"Manhattan\",\"Manhattan\",\"Bronx\",\"Manhattan\",\"Staten Island\",\"Manhattan\",\"Bronx\",\"Brooklyn\",\"Queens\",\"\",\"\",\"\",\"\",\"\"],\"values\":[47,17,727,39,2936,1752,256,889,44,46,11,373,9,56,44,1299,262,8,262,585,821,373,1171,281,570,517,536,72,133,341,14,759,1949,1533,232,368,85,416,501,74,847,30,10,1918,99,427,12,333,44,42,58,12,228,444,16,139,352,14,166,133,54,22,295,294,363,39,1428,1514,106,634,29,516,74,2570,364,930,13060,14996,4751,297],\"type\":\"sunburst\"}],                        {\"template\":{\"data\":{\"bar\":[{\"error_x\":{\"color\":\"#2a3f5f\"},\"error_y\":{\"color\":\"#2a3f5f\"},\"marker\":{\"line\":{\"color\":\"#E5ECF6\",\"width\":0.5},\"pattern\":{\"fillmode\":\"overlay\",\"size\":10,\"solidity\":0.2}},\"type\":\"bar\"}],\"barpolar\":[{\"marker\":{\"line\":{\"color\":\"#E5ECF6\",\"width\":0.5},\"pattern\":{\"fillmode\":\"overlay\",\"size\":10,\"solidity\":0.2}},\"type\":\"barpolar\"}],\"carpet\":[{\"aaxis\":{\"endlinecolor\":\"#2a3f5f\",\"gridcolor\":\"white\",\"linecolor\":\"white\",\"minorgridcolor\":\"white\",\"startlinecolor\":\"#2a3f5f\"},\"baxis\":{\"endlinecolor\":\"#2a3f5f\",\"gridcolor\":\"white\",\"linecolor\":\"white\",\"minorgridcolor\":\"white\",\"startlinecolor\":\"#2a3f5f\"},\"type\":\"carpet\"}],\"choropleth\":[{\"colorbar\":{\"outlinewidth\":0,\"ticks\":\"\"},\"type\":\"choropleth\"}],\"contour\":[{\"colorbar\":{\"outlinewidth\":0,\"ticks\":\"\"},\"colorscale\":[[0.0,\"#0d0887\"],[0.1111111111111111,\"#46039f\"],[0.2222222222222222,\"#7201a8\"],[0.3333333333333333,\"#9c179e\"],[0.4444444444444444,\"#bd3786\"],[0.5555555555555556,\"#d8576b\"],[0.6666666666666666,\"#ed7953\"],[0.7777777777777778,\"#fb9f3a\"],[0.8888888888888888,\"#fdca26\"],[1.0,\"#f0f921\"]],\"type\":\"contour\"}],\"contourcarpet\":[{\"colorbar\":{\"outlinewidth\":0,\"ticks\":\"\"},\"type\":\"contourcarpet\"}],\"heatmap\":[{\"colorbar\":{\"outlinewidth\":0,\"ticks\":\"\"},\"colorscale\":[[0.0,\"#0d0887\"],[0.1111111111111111,\"#46039f\"],[0.2222222222222222,\"#7201a8\"],[0.3333333333333333,\"#9c179e\"],[0.4444444444444444,\"#bd3786\"],[0.5555555555555556,\"#d8576b\"],[0.6666666666666666,\"#ed7953\"],[0.7777777777777778,\"#fb9f3a\"],[0.8888888888888888,\"#fdca26\"],[1.0,\"#f0f921\"]],\"type\":\"heatmap\"}],\"heatmapgl\":[{\"colorbar\":{\"outlinewidth\":0,\"ticks\":\"\"},\"colorscale\":[[0.0,\"#0d0887\"],[0.1111111111111111,\"#46039f\"],[0.2222222222222222,\"#7201a8\"],[0.3333333333333333,\"#9c179e\"],[0.4444444444444444,\"#bd3786\"],[0.5555555555555556,\"#d8576b\"],[0.6666666666666666,\"#ed7953\"],[0.7777777777777778,\"#fb9f3a\"],[0.8888888888888888,\"#fdca26\"],[1.0,\"#f0f921\"]],\"type\":\"heatmapgl\"}],\"histogram\":[{\"marker\":{\"pattern\":{\"fillmode\":\"overlay\",\"size\":10,\"solidity\":0.2}},\"type\":\"histogram\"}],\"histogram2d\":[{\"colorbar\":{\"outlinewidth\":0,\"ticks\":\"\"},\"colorscale\":[[0.0,\"#0d0887\"],[0.1111111111111111,\"#46039f\"],[0.2222222222222222,\"#7201a8\"],[0.3333333333333333,\"#9c179e\"],[0.4444444444444444,\"#bd3786\"],[0.5555555555555556,\"#d8576b\"],[0.6666666666666666,\"#ed7953\"],[0.7777777777777778,\"#fb9f3a\"],[0.8888888888888888,\"#fdca26\"],[1.0,\"#f0f921\"]],\"type\":\"histogram2d\"}],\"histogram2dcontour\":[{\"colorbar\":{\"outlinewidth\":0,\"ticks\":\"\"},\"colorscale\":[[0.0,\"#0d0887\"],[0.1111111111111111,\"#46039f\"],[0.2222222222222222,\"#7201a8\"],[0.3333333333333333,\"#9c179e\"],[0.4444444444444444,\"#bd3786\"],[0.5555555555555556,\"#d8576b\"],[0.6666666666666666,\"#ed7953\"],[0.7777777777777778,\"#fb9f3a\"],[0.8888888888888888,\"#fdca26\"],[1.0,\"#f0f921\"]],\"type\":\"histogram2dcontour\"}],\"mesh3d\":[{\"colorbar\":{\"outlinewidth\":0,\"ticks\":\"\"},\"type\":\"mesh3d\"}],\"parcoords\":[{\"line\":{\"colorbar\":{\"outlinewidth\":0,\"ticks\":\"\"}},\"type\":\"parcoords\"}],\"pie\":[{\"automargin\":true,\"type\":\"pie\"}],\"scatter\":[{\"marker\":{\"colorbar\":{\"outlinewidth\":0,\"ticks\":\"\"}},\"type\":\"scatter\"}],\"scatter3d\":[{\"line\":{\"colorbar\":{\"outlinewidth\":0,\"ticks\":\"\"}},\"marker\":{\"colorbar\":{\"outlinewidth\":0,\"ticks\":\"\"}},\"type\":\"scatter3d\"}],\"scattercarpet\":[{\"marker\":{\"colorbar\":{\"outlinewidth\":0,\"ticks\":\"\"}},\"type\":\"scattercarpet\"}],\"scattergeo\":[{\"marker\":{\"colorbar\":{\"outlinewidth\":0,\"ticks\":\"\"}},\"type\":\"scattergeo\"}],\"scattergl\":[{\"marker\":{\"colorbar\":{\"outlinewidth\":0,\"ticks\":\"\"}},\"type\":\"scattergl\"}],\"scattermapbox\":[{\"marker\":{\"colorbar\":{\"outlinewidth\":0,\"ticks\":\"\"}},\"type\":\"scattermapbox\"}],\"scatterpolar\":[{\"marker\":{\"colorbar\":{\"outlinewidth\":0,\"ticks\":\"\"}},\"type\":\"scatterpolar\"}],\"scatterpolargl\":[{\"marker\":{\"colorbar\":{\"outlinewidth\":0,\"ticks\":\"\"}},\"type\":\"scatterpolargl\"}],\"scatterternary\":[{\"marker\":{\"colorbar\":{\"outlinewidth\":0,\"ticks\":\"\"}},\"type\":\"scatterternary\"}],\"surface\":[{\"colorbar\":{\"outlinewidth\":0,\"ticks\":\"\"},\"colorscale\":[[0.0,\"#0d0887\"],[0.1111111111111111,\"#46039f\"],[0.2222222222222222,\"#7201a8\"],[0.3333333333333333,\"#9c179e\"],[0.4444444444444444,\"#bd3786\"],[0.5555555555555556,\"#d8576b\"],[0.6666666666666666,\"#ed7953\"],[0.7777777777777778,\"#fb9f3a\"],[0.8888888888888888,\"#fdca26\"],[1.0,\"#f0f921\"]],\"type\":\"surface\"}],\"table\":[{\"cells\":{\"fill\":{\"color\":\"#EBF0F8\"},\"line\":{\"color\":\"white\"}},\"header\":{\"fill\":{\"color\":\"#C8D4E3\"},\"line\":{\"color\":\"white\"}},\"type\":\"table\"}]},\"layout\":{\"annotationdefaults\":{\"arrowcolor\":\"#2a3f5f\",\"arrowhead\":0,\"arrowwidth\":1},\"autotypenumbers\":\"strict\",\"coloraxis\":{\"colorbar\":{\"outlinewidth\":0,\"ticks\":\"\"}},\"colorscale\":{\"diverging\":[[0,\"#8e0152\"],[0.1,\"#c51b7d\"],[0.2,\"#de77ae\"],[0.3,\"#f1b6da\"],[0.4,\"#fde0ef\"],[0.5,\"#f7f7f7\"],[0.6,\"#e6f5d0\"],[0.7,\"#b8e186\"],[0.8,\"#7fbc41\"],[0.9,\"#4d9221\"],[1,\"#276419\"]],\"sequential\":[[0.0,\"#0d0887\"],[0.1111111111111111,\"#46039f\"],[0.2222222222222222,\"#7201a8\"],[0.3333333333333333,\"#9c179e\"],[0.4444444444444444,\"#bd3786\"],[0.5555555555555556,\"#d8576b\"],[0.6666666666666666,\"#ed7953\"],[0.7777777777777778,\"#fb9f3a\"],[0.8888888888888888,\"#fdca26\"],[1.0,\"#f0f921\"]],\"sequentialminus\":[[0.0,\"#0d0887\"],[0.1111111111111111,\"#46039f\"],[0.2222222222222222,\"#7201a8\"],[0.3333333333333333,\"#9c179e\"],[0.4444444444444444,\"#bd3786\"],[0.5555555555555556,\"#d8576b\"],[0.6666666666666666,\"#ed7953\"],[0.7777777777777778,\"#fb9f3a\"],[0.8888888888888888,\"#fdca26\"],[1.0,\"#f0f921\"]]},\"colorway\":[\"#636efa\",\"#EF553B\",\"#00cc96\",\"#ab63fa\",\"#FFA15A\",\"#19d3f3\",\"#FF6692\",\"#B6E880\",\"#FF97FF\",\"#FECB52\"],\"font\":{\"color\":\"#2a3f5f\"},\"geo\":{\"bgcolor\":\"white\",\"lakecolor\":\"white\",\"landcolor\":\"#E5ECF6\",\"showlakes\":true,\"showland\":true,\"subunitcolor\":\"white\"},\"hoverlabel\":{\"align\":\"left\"},\"hovermode\":\"closest\",\"mapbox\":{\"style\":\"light\"},\"paper_bgcolor\":\"white\",\"plot_bgcolor\":\"#E5ECF6\",\"polar\":{\"angularaxis\":{\"gridcolor\":\"white\",\"linecolor\":\"white\",\"ticks\":\"\"},\"bgcolor\":\"#E5ECF6\",\"radialaxis\":{\"gridcolor\":\"white\",\"linecolor\":\"white\",\"ticks\":\"\"}},\"scene\":{\"xaxis\":{\"backgroundcolor\":\"#E5ECF6\",\"gridcolor\":\"white\",\"gridwidth\":2,\"linecolor\":\"white\",\"showbackground\":true,\"ticks\":\"\",\"zerolinecolor\":\"white\"},\"yaxis\":{\"backgroundcolor\":\"#E5ECF6\",\"gridcolor\":\"white\",\"gridwidth\":2,\"linecolor\":\"white\",\"showbackground\":true,\"ticks\":\"\",\"zerolinecolor\":\"white\"},\"zaxis\":{\"backgroundcolor\":\"#E5ECF6\",\"gridcolor\":\"white\",\"gridwidth\":2,\"linecolor\":\"white\",\"showbackground\":true,\"ticks\":\"\",\"zerolinecolor\":\"white\"}},\"shapedefaults\":{\"line\":{\"color\":\"#2a3f5f\"}},\"ternary\":{\"aaxis\":{\"gridcolor\":\"white\",\"linecolor\":\"white\",\"ticks\":\"\"},\"baxis\":{\"gridcolor\":\"white\",\"linecolor\":\"white\",\"ticks\":\"\"},\"bgcolor\":\"#E5ECF6\",\"caxis\":{\"gridcolor\":\"white\",\"linecolor\":\"white\",\"ticks\":\"\"}},\"title\":{\"x\":0.05},\"xaxis\":{\"automargin\":true,\"gridcolor\":\"white\",\"linecolor\":\"white\",\"ticks\":\"\",\"title\":{\"standoff\":15},\"zerolinecolor\":\"white\",\"zerolinewidth\":2},\"yaxis\":{\"automargin\":true,\"gridcolor\":\"white\",\"linecolor\":\"white\",\"ticks\":\"\",\"title\":{\"standoff\":15},\"zerolinecolor\":\"white\",\"zerolinewidth\":2}}},\"coloraxis\":{\"colorbar\":{\"title\":{\"text\":\"frequency\"}},\"colorscale\":[[0.0,\"rgb(165,0,38)\"],[0.1,\"rgb(215,48,39)\"],[0.2,\"rgb(244,109,67)\"],[0.3,\"rgb(253,174,97)\"],[0.4,\"rgb(254,224,139)\"],[0.5,\"rgb(255,255,191)\"],[0.6,\"rgb(217,239,139)\"],[0.7,\"rgb(166,217,106)\"],[0.8,\"rgb(102,189,99)\"],[0.9,\"rgb(26,152,80)\"],[1.0,\"rgb(0,104,55)\"]]},\"legend\":{\"tracegroupgap\":0},\"title\":{\"text\":\"Top 10 most frequent neighborhoods in each borough\"},\"height\":900,\"width\":1000},                        {\"responsive\": true}                    ).then(function(){\n",
              "                            \n",
              "var gd = document.getElementById('c6ab2ad9-7a7d-4f8a-821f-d236123d9112');\n",
              "var x = new MutationObserver(function (mutations, observer) {{\n",
              "        var display = window.getComputedStyle(gd).display;\n",
              "        if (!display || display === 'none') {{\n",
              "            console.log([gd, 'removed!']);\n",
              "            Plotly.purge(gd);\n",
              "            observer.disconnect();\n",
              "        }}\n",
              "}});\n",
              "\n",
              "// Listen for the removal of the full notebook cells\n",
              "var notebookContainer = gd.closest('#notebook-container');\n",
              "if (notebookContainer) {{\n",
              "    x.observe(notebookContainer, {childList: true});\n",
              "}}\n",
              "\n",
              "// Listen for the clearing of the current output cell\n",
              "var outputEl = gd.closest('.output');\n",
              "if (outputEl) {{\n",
              "    x.observe(outputEl, {childList: true});\n",
              "}}\n",
              "\n",
              "                        })                };                            </script>        </div>\n",
              "</body>\n",
              "</html>"
            ]
          },
          "metadata": {}
        }
      ]
    },
    {
      "cell_type": "markdown",
      "source": [
        "# 5. Word Cloud"
      ],
      "metadata": {
        "id": "dlm6Mg3DTImj"
      }
    },
    {
      "cell_type": "markdown",
      "source": [
        "# 6. Regression Analysis"
      ],
      "metadata": {
        "id": "o7yLfWifTNr1"
      }
    }
  ],
  "metadata": {
    "kernelspec": {
      "display_name": "Python 3",
      "language": "python",
      "name": "python3"
    },
    "language_info": {
      "codemirror_mode": {
        "name": "ipython",
        "version": 2
      },
      "file_extension": ".py",
      "mimetype": "text/x-python",
      "name": "python",
      "nbconvert_exporter": "python",
      "pygments_lexer": "ipython2",
      "version": "2.7.6"
    },
    "colab": {
      "provenance": [],
      "toc_visible": true
    }
  },
  "nbformat": 4,
  "nbformat_minor": 0
}