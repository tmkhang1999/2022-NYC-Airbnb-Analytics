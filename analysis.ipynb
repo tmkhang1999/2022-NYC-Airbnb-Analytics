{
  "cells": [
    {
      "cell_type": "markdown",
      "source": [
        "# 1. Importing Libraries"
      ],
      "metadata": {
        "id": "pqWlGIDqStbS"
      }
    },
    {
      "cell_type": "markdown",
      "source": [
        "# 2. Loading the dataset"
      ],
      "metadata": {
        "id": "iMAnAU_GSzOE"
      }
    },
    {
      "cell_type": "markdown",
      "source": [
        "# 3. Data Cleaning"
      ],
      "metadata": {
        "id": "tZrfASImTCNE"
      }
    },
    {
      "cell_type": "markdown",
      "source": [
        "# 4. Data Visualization"
      ],
      "metadata": {
        "id": "Lgk8RYXETFJN"
      }
    },
    {
      "cell_type": "markdown",
      "source": [
        "# 5. Word Cloud"
      ],
      "metadata": {
        "id": "dlm6Mg3DTImj"
      }
    },
    {
      "cell_type": "markdown",
      "source": [
        "# 6. Regression Analysis"
      ],
      "metadata": {
        "id": "o7yLfWifTNr1"
      }
    }
  ],
  "metadata": {
    "kernelspec": {
      "display_name": "Python 3",
      "language": "python",
      "name": "python3"
    },
    "language_info": {
      "codemirror_mode": {
        "name": "ipython",
        "version": 2
      },
      "file_extension": ".py",
      "mimetype": "text/x-python",
      "name": "python",
      "nbconvert_exporter": "python",
      "pygments_lexer": "ipython2",
      "version": "2.7.6"
    },
    "colab": {
      "provenance": [],
      "toc_visible": true
    }
  },
  "nbformat": 4,
  "nbformat_minor": 0
}