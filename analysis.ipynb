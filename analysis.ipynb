{
 "cells": [
  {
   "cell_type": "code",
   "execution_count": null,
   "metadata": {
    "collapsed": true
   },
   "outputs": [],
   "source": [
    "import pandas as pd"
   ]
  },
  {
   "cell_type": "code",
   "execution_count": null,
   "outputs": [],
   "source": [
    "l_df = pd.read_csv('./data/listings.csv.gz', compression='gzip')"
   ],
   "metadata": {
    "collapsed": false
   }
  },
  {
   "cell_type": "code",
   "execution_count": 3,
   "outputs": [
    {
     "data": {
      "text/plain": "     id                        listing_url       scrape_id last_scraped  \\\n0  2595  https://www.airbnb.com/rooms/2595  20221204162430   2022-12-05   \n1  5203  https://www.airbnb.com/rooms/5203  20221204162430   2022-12-05   \n2  5136  https://www.airbnb.com/rooms/5136  20221204162430   2022-12-04   \n3  5121  https://www.airbnb.com/rooms/5121  20221204162430   2022-12-05   \n4  6848  https://www.airbnb.com/rooms/6848  20221204162430   2022-12-05   \n\n            source                                      name  \\\n0      city scrape                     Skylit Midtown Castle   \n1  previous scrape        Cozy Clean Guest Room - Family Apt   \n2      city scrape  Spacious Brooklyn Duplex, Patio + Garden   \n3      city scrape                           BlissArtsSpace!   \n4      city scrape          Only 2 stops to Manhattan studio   \n\n                                         description  \\\n0  Beautiful, spacious skylit studio in the heart...   \n1  Our best guests are seeking a safe, clean, spa...   \n2  We welcome you to stay in our lovely 2 br dupl...   \n3  One room available for rent in a 2 bedroom apt...   \n4  Comfortable studio apartment with super comfor...   \n\n                               neighborhood_overview  \\\n0  Centrally located in the heart of Manhattan ju...   \n1  Our neighborhood is full of restaurants and ca...   \n2                                                NaN   \n3                                                NaN   \n4                                                NaN   \n\n                                         picture_url  host_id  ...  \\\n0  https://a0.muscache.com/pictures/f0813a11-40b2...     2845  ...   \n1  https://a0.muscache.com/pictures/103776/b37157...     7490  ...   \n2  https://a0.muscache.com/pictures/miso/Hosting-...     7378  ...   \n3  https://a0.muscache.com/pictures/2090980c-b68e...     7356  ...   \n4  https://a0.muscache.com/pictures/e4f031a7-f146...    15991  ...   \n\n  review_scores_communication review_scores_location review_scores_value  \\\n0                        4.80                   4.81                4.40   \n1                        4.95                   4.94                4.92   \n2                        5.00                   4.67                5.00   \n3                        4.91                   4.47                4.52   \n4                        4.80                   4.67                4.56   \n\n  license instant_bookable calculated_host_listings_count  \\\n0     NaN                f                              3   \n1     NaN                f                              1   \n2     NaN                f                              1   \n3     NaN                f                              2   \n4     NaN                f                              1   \n\n  calculated_host_listings_count_entire_homes  \\\n0                                           3   \n1                                           0   \n2                                           1   \n3                                           0   \n4                                           1   \n\n  calculated_host_listings_count_private_rooms  \\\n0                                            0   \n1                                            1   \n2                                            0   \n3                                            2   \n4                                            0   \n\n  calculated_host_listings_count_shared_rooms reviews_per_month  \n0                                           0              0.31  \n1                                           0              0.73  \n2                                           0              0.03  \n3                                           0              0.30  \n4                                           0              1.13  \n\n[5 rows x 75 columns]",
      "text/html": "<div>\n<style scoped>\n    .dataframe tbody tr th:only-of-type {\n        vertical-align: middle;\n    }\n\n    .dataframe tbody tr th {\n        vertical-align: top;\n    }\n\n    .dataframe thead th {\n        text-align: right;\n    }\n</style>\n<table border=\"1\" class=\"dataframe\">\n  <thead>\n    <tr style=\"text-align: right;\">\n      <th></th>\n      <th>id</th>\n      <th>listing_url</th>\n      <th>scrape_id</th>\n      <th>last_scraped</th>\n      <th>source</th>\n      <th>name</th>\n      <th>description</th>\n      <th>neighborhood_overview</th>\n      <th>picture_url</th>\n      <th>host_id</th>\n      <th>...</th>\n      <th>review_scores_communication</th>\n      <th>review_scores_location</th>\n      <th>review_scores_value</th>\n      <th>license</th>\n      <th>instant_bookable</th>\n      <th>calculated_host_listings_count</th>\n      <th>calculated_host_listings_count_entire_homes</th>\n      <th>calculated_host_listings_count_private_rooms</th>\n      <th>calculated_host_listings_count_shared_rooms</th>\n      <th>reviews_per_month</th>\n    </tr>\n  </thead>\n  <tbody>\n    <tr>\n      <th>0</th>\n      <td>2595</td>\n      <td>https://www.airbnb.com/rooms/2595</td>\n      <td>20221204162430</td>\n      <td>2022-12-05</td>\n      <td>city scrape</td>\n      <td>Skylit Midtown Castle</td>\n      <td>Beautiful, spacious skylit studio in the heart...</td>\n      <td>Centrally located in the heart of Manhattan ju...</td>\n      <td>https://a0.muscache.com/pictures/f0813a11-40b2...</td>\n      <td>2845</td>\n      <td>...</td>\n      <td>4.80</td>\n      <td>4.81</td>\n      <td>4.40</td>\n      <td>NaN</td>\n      <td>f</td>\n      <td>3</td>\n      <td>3</td>\n      <td>0</td>\n      <td>0</td>\n      <td>0.31</td>\n    </tr>\n    <tr>\n      <th>1</th>\n      <td>5203</td>\n      <td>https://www.airbnb.com/rooms/5203</td>\n      <td>20221204162430</td>\n      <td>2022-12-05</td>\n      <td>previous scrape</td>\n      <td>Cozy Clean Guest Room - Family Apt</td>\n      <td>Our best guests are seeking a safe, clean, spa...</td>\n      <td>Our neighborhood is full of restaurants and ca...</td>\n      <td>https://a0.muscache.com/pictures/103776/b37157...</td>\n      <td>7490</td>\n      <td>...</td>\n      <td>4.95</td>\n      <td>4.94</td>\n      <td>4.92</td>\n      <td>NaN</td>\n      <td>f</td>\n      <td>1</td>\n      <td>0</td>\n      <td>1</td>\n      <td>0</td>\n      <td>0.73</td>\n    </tr>\n    <tr>\n      <th>2</th>\n      <td>5136</td>\n      <td>https://www.airbnb.com/rooms/5136</td>\n      <td>20221204162430</td>\n      <td>2022-12-04</td>\n      <td>city scrape</td>\n      <td>Spacious Brooklyn Duplex, Patio + Garden</td>\n      <td>We welcome you to stay in our lovely 2 br dupl...</td>\n      <td>NaN</td>\n      <td>https://a0.muscache.com/pictures/miso/Hosting-...</td>\n      <td>7378</td>\n      <td>...</td>\n      <td>5.00</td>\n      <td>4.67</td>\n      <td>5.00</td>\n      <td>NaN</td>\n      <td>f</td>\n      <td>1</td>\n      <td>1</td>\n      <td>0</td>\n      <td>0</td>\n      <td>0.03</td>\n    </tr>\n    <tr>\n      <th>3</th>\n      <td>5121</td>\n      <td>https://www.airbnb.com/rooms/5121</td>\n      <td>20221204162430</td>\n      <td>2022-12-05</td>\n      <td>city scrape</td>\n      <td>BlissArtsSpace!</td>\n      <td>One room available for rent in a 2 bedroom apt...</td>\n      <td>NaN</td>\n      <td>https://a0.muscache.com/pictures/2090980c-b68e...</td>\n      <td>7356</td>\n      <td>...</td>\n      <td>4.91</td>\n      <td>4.47</td>\n      <td>4.52</td>\n      <td>NaN</td>\n      <td>f</td>\n      <td>2</td>\n      <td>0</td>\n      <td>2</td>\n      <td>0</td>\n      <td>0.30</td>\n    </tr>\n    <tr>\n      <th>4</th>\n      <td>6848</td>\n      <td>https://www.airbnb.com/rooms/6848</td>\n      <td>20221204162430</td>\n      <td>2022-12-05</td>\n      <td>city scrape</td>\n      <td>Only 2 stops to Manhattan studio</td>\n      <td>Comfortable studio apartment with super comfor...</td>\n      <td>NaN</td>\n      <td>https://a0.muscache.com/pictures/e4f031a7-f146...</td>\n      <td>15991</td>\n      <td>...</td>\n      <td>4.80</td>\n      <td>4.67</td>\n      <td>4.56</td>\n      <td>NaN</td>\n      <td>f</td>\n      <td>1</td>\n      <td>1</td>\n      <td>0</td>\n      <td>0</td>\n      <td>1.13</td>\n    </tr>\n  </tbody>\n</table>\n<p>5 rows × 75 columns</p>\n</div>"
     },
     "execution_count": 3,
     "metadata": {},
     "output_type": "execute_result"
    }
   ],
   "source": [
    "l_df.head()"
   ],
   "metadata": {
    "collapsed": false
   }
  },
  {
   "cell_type": "code",
   "execution_count": 4,
   "outputs": [
    {
     "data": {
      "text/plain": "(41533, 75)"
     },
     "execution_count": 4,
     "metadata": {},
     "output_type": "execute_result"
    }
   ],
   "source": [
    "l_df.shape"
   ],
   "metadata": {
    "collapsed": false
   }
  },
  {
   "cell_type": "code",
   "execution_count": 5,
   "outputs": [
    {
     "data": {
      "text/plain": "Index(['id', 'listing_url', 'scrape_id', 'last_scraped', 'source', 'name',\n       'description', 'neighborhood_overview', 'picture_url', 'host_id',\n       'host_url', 'host_name', 'host_since', 'host_location', 'host_about',\n       'host_response_time', 'host_response_rate', 'host_acceptance_rate',\n       'host_is_superhost', 'host_thumbnail_url', 'host_picture_url',\n       'host_neighbourhood', 'host_listings_count',\n       'host_total_listings_count', 'host_verifications',\n       'host_has_profile_pic', 'host_identity_verified', 'neighbourhood',\n       'neighbourhood_cleansed', 'neighbourhood_group_cleansed', 'latitude',\n       'longitude', 'property_type', 'room_type', 'accommodates', 'bathrooms',\n       'bathrooms_text', 'bedrooms', 'beds', 'amenities', 'price',\n       'minimum_nights', 'maximum_nights', 'minimum_minimum_nights',\n       'maximum_minimum_nights', 'minimum_maximum_nights',\n       'maximum_maximum_nights', 'minimum_nights_avg_ntm',\n       'maximum_nights_avg_ntm', 'calendar_updated', 'has_availability',\n       'availability_30', 'availability_60', 'availability_90',\n       'availability_365', 'calendar_last_scraped', 'number_of_reviews',\n       'number_of_reviews_ltm', 'number_of_reviews_l30d', 'first_review',\n       'last_review', 'review_scores_rating', 'review_scores_accuracy',\n       'review_scores_cleanliness', 'review_scores_checkin',\n       'review_scores_communication', 'review_scores_location',\n       'review_scores_value', 'license', 'instant_bookable',\n       'calculated_host_listings_count',\n       'calculated_host_listings_count_entire_homes',\n       'calculated_host_listings_count_private_rooms',\n       'calculated_host_listings_count_shared_rooms', 'reviews_per_month'],\n      dtype='object')"
     },
     "execution_count": 5,
     "metadata": {},
     "output_type": "execute_result"
    }
   ],
   "source": [
    "l_df.columns"
   ],
   "metadata": {
    "collapsed": false
   }
  },
  {
   "cell_type": "code",
   "execution_count": 6,
   "outputs": [
    {
     "data": {
      "text/plain": "id                                                int64\nlisting_url                                      object\nscrape_id                                         int64\nlast_scraped                                     object\nsource                                           object\n                                                 ...   \ncalculated_host_listings_count                    int64\ncalculated_host_listings_count_entire_homes       int64\ncalculated_host_listings_count_private_rooms      int64\ncalculated_host_listings_count_shared_rooms       int64\nreviews_per_month                               float64\nLength: 75, dtype: object"
     },
     "execution_count": 6,
     "metadata": {},
     "output_type": "execute_result"
    }
   ],
   "source": [
    "l_df.dtypes"
   ],
   "metadata": {
    "collapsed": false
   }
  },
  {
   "cell_type": "code",
   "execution_count": null,
   "outputs": [],
   "source": [],
   "metadata": {
    "collapsed": false
   }
  }
 ],
 "metadata": {
  "kernelspec": {
   "display_name": "Python 3",
   "language": "python",
   "name": "python3"
  },
  "language_info": {
   "codemirror_mode": {
    "name": "ipython",
    "version": 2
   },
   "file_extension": ".py",
   "mimetype": "text/x-python",
   "name": "python",
   "nbconvert_exporter": "python",
   "pygments_lexer": "ipython2",
   "version": "2.7.6"
  }
 },
 "nbformat": 4,
 "nbformat_minor": 0
}
